{
 "cells": [
  {
   "cell_type": "code",
   "execution_count": 1,
   "metadata": {},
   "outputs": [],
   "source": [
    "import numpy as np\n",
    "import pickle"
   ]
  },
  {
   "cell_type": "code",
   "execution_count": 4,
   "metadata": {},
   "outputs": [
    {
     "data": {
      "text/plain": [
       "dict_keys(['u_velocity', 'y_velocity', 'temperature', 'pressure', 'time', 'coords'])"
      ]
     },
     "execution_count": 4,
     "metadata": {},
     "output_type": "execute_result"
    }
   ],
   "source": [
    "with open('DHC_2D_Unsteady.dat','rb') as f:\n",
    "    data = pickle.load(f)\n",
    "\n",
    "data.keys()"
   ]
  },
  {
   "cell_type": "code",
   "execution_count": 12,
   "metadata": {},
   "outputs": [],
   "source": [
    "coords = data['coords']\n",
    "x_pre ,y_pre = coords[:,0], coords[:,-1] # Nx1\n",
    "t_pre = data['time'] #Tx1\n",
    "#Reshape coords and t to be NxT then flatten\n",
    "\n",
    "x = np.stack([x_pre]*len(t_pre),axis = -1)\n",
    "y = np.stack([y_pre]*len(t_pre),axis = -1)\n",
    "t = np.stack([t_pre]*len(x_pre),axis = 0)\n",
    "\n",
    "u = data['u_velocity']\n",
    "v = data['y_velocity']\n",
    "temp = data['temperature']\n",
    "p = data['pressure']\n",
    "\n"
   ]
  },
  {
   "cell_type": "code",
   "execution_count": null,
   "metadata": {},
   "outputs": [],
   "source": []
  },
  {
   "cell_type": "code",
   "execution_count": 18,
   "metadata": {},
   "outputs": [],
   "source": [
    "# Flatten data\n",
    "\n",
    "x_data = x.flatten()\n",
    "y_data = y.flatten()\n",
    "t_data = t.flatten()\n",
    "\n",
    "u_data = u.flatten()\n",
    "v_data = v.flatten()\n",
    "temp_data = temp.flatten()\n",
    "p_data = p.flatten()"
   ]
  },
  {
   "cell_type": "code",
   "execution_count": 20,
   "metadata": {},
   "outputs": [],
   "source": []
  },
  {
   "cell_type": "code",
   "execution_count": 21,
   "metadata": {},
   "outputs": [
    {
     "data": {
      "text/plain": [
       "(9696240, 7)"
      ]
     },
     "execution_count": 21,
     "metadata": {},
     "output_type": "execute_result"
    }
   ],
   "source": []
  }
 ],
 "metadata": {
  "kernelspec": {
   "display_name": "Python 3",
   "language": "python",
   "name": "python3"
  },
  "language_info": {
   "codemirror_mode": {
    "name": "ipython",
    "version": 3
   },
   "file_extension": ".py",
   "mimetype": "text/x-python",
   "name": "python",
   "nbconvert_exporter": "python",
   "pygments_lexer": "ipython3",
   "version": "3.10.2"
  },
  "orig_nbformat": 4,
  "vscode": {
   "interpreter": {
    "hash": "93c0104d3f227b0e033a0cd6005bb89e2b2cf93a22dc7d60b19b22d2cfc418a0"
   }
  }
 },
 "nbformat": 4,
 "nbformat_minor": 2
}
