{
 "cells": [
  {
   "cell_type": "code",
   "execution_count": 1,
   "metadata": {},
   "outputs": [],
   "source": [
    "from matplotlib import pyplot as plt"
   ]
  },
  {
   "cell_type": "markdown",
   "metadata": {},
   "source": [
    "## Functiosn\n"
   ]
  },
  {
   "cell_type": "code",
   "execution_count": 2,
   "metadata": {},
   "outputs": [],
   "source": [
    "from Utilities import *\n",
    "from Data.Boussineq_2D_Data import *\n",
    "import torch\n",
    "from torch.utils.data import DataLoader,Dataset\n",
    "from functorch import jacrev,vmap,vjp\n",
    "import numpy as np\n",
    "from torch import tensor\n",
    "from datetime import datetime\n",
    "import csv\n",
    "import time\n",
    "import os\n",
    "\n",
    "'''\n",
    "Script to recreate HFM\n",
    "'''\n",
    "\n",
    "def aux_wrap(net):\n",
    "    def aux_net(xyt):\n",
    "        result = net(xyt)\n",
    "        return result,result\n",
    "    return aux_net\n",
    "def get_conc_derivs(net,xyt,hes_vecs):\n",
    "    '''\n",
    "    Get the all the derivatives for the equations for Navier Stokes and Concentration Equations\n",
    "    Assumes the NN Model maps: (x,y,t) --> (u,v,p,c)\n",
    "\n",
    "    Uses Functorch a JAX like interface to get derivatives\n",
    "    '''\n",
    "    aux_net = aux_wrap(net)\n",
    "    #Crazy One Functional liner gives returns (Jacobian,Hessian function, Network Evaluation) for input xyt = (x,y,t)\n",
    "    jac,partial_hess,out = vjp(jacrev(aux_net,has_aux = True),xyt,has_aux = True)\n",
    "\n",
    "    u,v,p,temp = out\n",
    "\n",
    "    #Jacobian:\n",
    "    ## x        y       t\n",
    "    #u ux       uy      ut\n",
    "    #v vx       vy      vt\n",
    "    #p px       py      pt\n",
    "    #c temp_x  temp_y   temp_t\n",
    "    ux,uy,ut = jac[0,:]\n",
    "    vx,vy,vt = jac[1,:]\n",
    "    px,py    = jac[2,0:2]\n",
    "    temp_x,temp_y,temp_t = jac[3,:]\n",
    "    \n",
    "    #The partial hess allows us to get the derivatives of specific elements in the Jacobian\n",
    "    #Much more effecient than calulating entire hessian\n",
    "    d2 = vmap(partial_hess)(hes_vecs)[0]\n",
    "\n",
    "    #Second Order Terms\n",
    "    uxx,uyy = d2[[0,1],[0,1]]\n",
    "    vxx,vyy = d2[[2,3],[0,1]]\n",
    "    temp_xx,temp_yy = d2[[4,5],[0,1]]\n",
    "\n",
    "    return (p,px,py), (temp,temp_x,temp_y,temp_t,temp_xx,temp_yy),(u,ux,uy,ut,uxx,uyy),(v,vx,vy,vt,vxx,vyy) \n",
    "    \n",
    "# Code for one epoch\n",
    "def one_epoch(train_loader,net,optimizer,Re = 100, bouy = 100,alpha = 100, device = 'cpu',weights = None):\n",
    "    vecs = torch.zeros((6,4,3))\n",
    "    #These tensors allow us to effeciently get 2nd order derivatives without\n",
    "    #Computing the entire Hessian\n",
    "    #uxx uyy\n",
    "    vecs[0,0,0] = 1\n",
    "    vecs[1,0,1] = 1\n",
    "\n",
    "    #vxx vyy\n",
    "    vecs[2,1,0] = 1\n",
    "    vecs[3,1,1] = 1\n",
    "\n",
    "    #Cxx, Cyy\n",
    "    vecs[4,3,0] = 1\n",
    "    vecs[5,3,1] = 1\n",
    "    vecs = vecs.to(device)\n",
    "\n",
    "\n",
    "    if weights is None:\n",
    "        weights = [1.]*6\n",
    "    #Variables to keep track of total loss and individual losses (unweighted)\n",
    "    running_loss = 0.\n",
    "    indi_loss = torch.zeros(6)\n",
    "\n",
    "    for data in train_loader:\n",
    "        optimizer.zero_grad()\n",
    "        \n",
    "        xyt,u_data,v_data = data[0].to(device),data[1].to(device),data[2].to(device)\n",
    "        (p,px,py), (temp,temp_x,temp_y,temp_t,temp_xx,temp_yy),(u,ux,uy,ut,uxx,uyy),(v,vx,vy,vt,vxx,vyy) = vmap(get_conc_derivs,(None,0,None))(net,xyt,vecs)\n",
    "        #we output u,y,T-T0 as T-T0 scales to -1 and 1. We can recover original temp by adding T0\n",
    "\n",
    "        #Boussineq stokes eq\n",
    "        e1 = ut + u*ux+v*uy + px - 1/Re*(uxx + uyy) \n",
    "        #y direction has additional buoyancy term\n",
    "        e2 = vt + vx*u +vy*v + py - 1/Re*(vxx+vyy) + bouy*(temp)\n",
    "        #Incompress\n",
    "        e3 = ux+vy\n",
    "        #Concentration eq\n",
    "        e4 = temp_t + (u*temp_x + v*temp_y) - alpha*(temp_xx+temp_yy)\n",
    "        # Data Fitting\n",
    "        e5 = u-u_data \n",
    "        e6 = v-v_data\n",
    "        eq_s = [e1,e2,e3,e4,e5,e6]\n",
    "\n",
    "        #Sum of MSE of each loss\n",
    "        \n",
    "        total_loss = sum([w*e.pow(2).mean() for w,e in zip(weights,eq_s)])\n",
    "        \n",
    "        #Get Gradients then update weights\n",
    "        total_loss.backward()\n",
    "        optimizer.step()\n",
    "        \n",
    "        #Loss Tracking\n",
    "        running_loss += total_loss\n",
    "        indi_loss += tensor([e.pow(2).mean() for e in eq_s])\n",
    "        \n",
    "    return running_loss ,indi_loss \n",
    "\n",
    "class Boussineq_Dataset(Dataset):\n",
    "    def __init__(self,data):\n",
    "        self.data = data\n",
    "\n",
    "    def __len__(self):\n",
    "        return self.data.shape[0]\n",
    "    def __getitem__(self,idx):\n",
    "        data = self.data[idx,:]\n",
    "        xyt = data[0:3]\n",
    "        u = data[3]\n",
    "        v = data[4]\n",
    "        return xyt,u,v\n",
    "\n",
    "\n",
    "\n",
    "\n"
   ]
  },
  {
   "cell_type": "code",
   "execution_count": 3,
   "metadata": {},
   "outputs": [],
   "source": [
    "def main(MAX_EPOCHS = 10_000,N_SAMPLE = None,batch_size = 10_000,MAX_HOUR_DURATION = 40,SAVE_PATH = 'Save/Boussineq'):\n",
    "    if not os.path.exists(SAVE_PATH):\n",
    "        os.mkdir(SAVE_PATH)\n",
    "        print(f'Folder {SAVE_PATH} Created')\n",
    "\n",
    "    #Set Network Up\n",
    "    net = HFM_Net(3,4,10,50)\n",
    "    device = 'cuda:0' if torch.cuda.is_available() else 'cpu'\n",
    "    net.non_lin = torch.tanh\n",
    "\n",
    "    net = net.to(device)\n",
    "\n",
    "    #Data Wrangling see HFM_training data for how data works (from HFM paper)\n",
    "    x_data,y_data,t_data,u_data,v_data,temp_data,p_data = np.moveaxis(get_boussineq_2D('Data/DHC_2D_Unsteady.dat',shuffle=False),0,-1)\n",
    "    \n",
    "    #Dimensional Scales\n",
    "    RHO = 998\n",
    "    L = 0.01\n",
    "    U = 1e-3\n",
    "    MU = 0.00959\n",
    "    #For Temp inthis case leave as 1 \n",
    "    T = 1 \n",
    "    #Thermal Expansion\n",
    "    BETA = 0.000228\n",
    "    #Conductivity #specific Heat\n",
    "    k,Cp = 0.606,4181\n",
    "    alpha_star = k/(Cp*RHO)\n",
    "\n",
    "    Re = RHO*U*L/MU\n",
    "    bouy = -9.81*L*BETA/(U**2)\n",
    "    alpha = alpha_star/(U*L)\n",
    "\n",
    "    # Rescale All values\n",
    "    x_data = x_data/L\n",
    "    y_data = y_data/L\n",
    "    t_data = t_data/(L/U)\n",
    "\n",
    "    u_data = u_data/U\n",
    "    v_data = v_data/U\n",
    "    p_data = p_data/(RHO*U**2)\n",
    "    temp_data = temp_data/T\n",
    "\n",
    "    \n",
    "    data = np.stack([x_data,y_data,t_data,u_data,v_data], axis = 1)\n",
    "    new_data = tensor(data,dtype = torch.float32).squeeze()\n",
    "    #DataLoader for Easy shuffling of data. Only Use 2_000_000 points\n",
    "    if N_SAMPLE is None:\n",
    "        N_SAMPLE = new_data.shape[0]\n",
    "    \n",
    "    train_set = Boussineq_Dataset(new_data[:N_SAMPLE,:])\n",
    "    train_loader = DataLoader(train_set,batch_size = batch_size,shuffle = False,num_workers =8,pin_memory=True)\n",
    "    # a = iter(train_loader)\n",
    "\n",
    "\n",
    "    optimizer = torch.optim.Adam(net.parameters(),lr = 1e-3)\n",
    "\n",
    "    #Tracking Loss\n",
    "    best_loss = float('inf')\n",
    "    currentDateAndTime = datetime.now().strftime(\"%Y_%m_%d_%H_%M_%S\")\n",
    "    epoch_losses = []\n",
    "\n",
    "\n",
    "    print(f'\\n\\n Starting Run at time {currentDateAndTime} using device {device} \\n\\n')\n",
    "    print(f'Dimensional Numbers: Re {Re:.3f}, Buoy {bouy:.3f}, alpha {alpha:.7f}')\n",
    "\n",
    "    with open(f'{SAVE_PATH}/Run_{currentDateAndTime}.csv','w',newline = '') as f:\n",
    "\n",
    "        #Text file to track losses\n",
    "        csv_writer = csv.writer(f)\n",
    "        csv_writer.writerow(['Epoch','Total Loss','NS_u','NS_y','Incompressibility','Conc_eq','Conc_data'])\n",
    "\n",
    "        timer_start = time.perf_counter()\n",
    "        weights = [ 0.,0.,0.,0.,1.,1.]\n",
    "        for i in range(MAX_EPOCHS):\n",
    "            #One epoch training\n",
    "            loss,indi_loss = one_epoch(train_loader,net,optimizer,Re = Re, bouy = bouy, alpha = alpha, device = device,weights = weights)\n",
    "            #Record Losses and elapsed time\n",
    "            epoch_losses.append( [i,float(loss)] + list(map(float,indi_loss)) )\n",
    "            csv_writer.writerow(epoch_losses[-1])\n",
    "            elapsed_time = (time.perf_counter() - timer_start)/3600 \n",
    "            \n",
    "            if i % 2  == 0:\n",
    "                print(f'Time (H) {elapsed_time:.3f} Epoch {i} loss {loss:3f} Equation Losses \\t {indi_loss}') \n",
    "\n",
    "                if loss < best_loss:\n",
    "                    torch.save(net.to('cpu').state_dict(),f'{SAVE_PATH}/Best_Loss_run_{currentDateAndTime}.pth')\n",
    "                    best_loss = loss\n",
    "                    net.to(device)\n",
    "                    print('Saved!')\n",
    "            if elapsed_time > MAX_HOUR_DURATION:\n",
    "                break\n",
    "\n",
    "\n",
    "\n"
   ]
  },
  {
   "cell_type": "code",
   "execution_count": null,
   "metadata": {},
   "outputs": [],
   "source": [
    "if __name__ == '__main__':\n",
    "    main(MAX_EPOCHS=5500,N_SAMPLE=50_000,batch_size=5_000)\n",
    "\n"
   ]
  },
  {
   "cell_type": "markdown",
   "metadata": {},
   "source": [
    "# hI\n"
   ]
  },
  {
   "cell_type": "code",
   "execution_count": 3,
   "metadata": {},
   "outputs": [
    {
     "data": {
      "text/plain": [
       "<All keys matched successfully>"
      ]
     },
     "execution_count": 3,
     "metadata": {},
     "output_type": "execute_result"
    }
   ],
   "source": [
    "state = torch.load('Save\\Boussineq\\Best_Loss_run_2023_01_20_08_16_47.pth')\n",
    "net = HFM_Net(3,4,10,250)\n",
    "net.load_state_dict(state)\n",
    "net.non_lin = torch.tanh #For Non-Dimensionalised"
   ]
  },
  {
   "cell_type": "code",
   "execution_count": 4,
   "metadata": {},
   "outputs": [],
   "source": [
    "def plot_field(field,x_grid,y_grid,t = 0):\n",
    "  u_grid = field.reshape(x_grid.shape).detach()\n",
    "\n",
    "  x_grid,y_grid = x_grid[:,:,0],y_grid[:,:,0]\n",
    "  import numpy as np\n",
    "  # plt.figure(figsize=(10,2))\n",
    "  fig,ax = plt.subplots()\n",
    "  fig.set_figwidth(12.5)\n",
    "  fig.set_figheight(5)\n",
    "  CS = ax.contourf(x_grid,y_grid,u_grid[:,:,t],cmap = 'rainbow' )\n",
    "#   circ = plt.Circle((0,0),0.5)\n",
    "#   ax.add_patch(circ)\n",
    "  fig.colorbar(CS)\n",
    "  return u_grid"
   ]
  },
  {
   "cell_type": "code",
   "execution_count": 5,
   "metadata": {},
   "outputs": [
    {
     "name": "stderr",
     "output_type": "stream",
     "text": [
      "C:\\Users\\John Su\\AppData\\Roaming\\Python\\Python39\\site-packages\\torch\\functional.py:504: UserWarning: torch.meshgrid: in an upcoming release, it will be required to pass the indexing argument. (Triggered internally at C:\\actions-runner\\_work\\pytorch\\pytorch\\builder\\windows\\pytorch\\aten\\src\\ATen\\native\\TensorShape.cpp:3191.)\n",
      "  return _VF.meshgrid(tensors, **kwargs)  # type: ignore[attr-defined]\n"
     ]
    },
    {
     "name": "stdout",
     "output_type": "stream",
     "text": [
      "torch.Size([2400000, 3])\n"
     ]
    }
   ],
   "source": [
    "x = torch.linspace(0,0.1,100)\n",
    "y = torch.linspace(0,0.1,100)\n",
    "t = torch.linspace(0,120,240)\n",
    "grid = torch.meshgrid([x,y,t])\n",
    "\n",
    "flat_grids = [torch.flatten(i) for i in grid]\n",
    "\n",
    "data_val = torch.stack( flat_grids ,dim = 1)\n",
    "print(data_val.shape)\n",
    "\n",
    "\n",
    "net_disp = net.cuda()\n",
    "with torch.no_grad():\n",
    "    out = net_disp(data_val.cuda())\n",
    "\n",
    "u,v,p,c = [out[:,i].to('cpu') for i in range(4)]"
   ]
  },
  {
   "cell_type": "code",
   "execution_count": 6,
   "metadata": {},
   "outputs": [
    {
     "data": {
      "image/png": "[encoded data removed]",
      "text/plain": [
       "<Figure size 1250x500 with 2 Axes>"
      ]
     },
     "metadata": {},
     "output_type": "display_data"
    }
   ],
   "source": [
    "v_grid = plot_field(v,grid[0],grid[1])"
   ]
  },
  {
   "cell_type": "code",
   "execution_count": 12,
   "metadata": {},
   "outputs": [],
   "source": [
    "from matplotlib import animation\n",
    "\n",
    "def get_field_gif(field_grid,x_grid,y_grid,title,level_min = None,level_max =None):\n",
    "  x_grid,y_grid = x_grid[:,:,0],y_grid[:,:,0]\n",
    "  u_grid = field_grid\n",
    "  fig,ax = plt.subplots()\n",
    "  fig.set_figwidth(12.5)\n",
    "  fig.set_figheight(5)\n",
    "\n",
    "  ta = 240\n",
    "  if level_min is None:\n",
    "    level_min= torch.min(u_grid)\n",
    "  if level_max is None:\n",
    "    level_max=torch.max(u_grid)\n",
    "\n",
    "\n",
    "  # level_min2,level_max2 = torch.min(vort),torch.max(vort)\n",
    "\n",
    "  # CS = ax.contourf(x_grid,y_grid,vort[:,:,0], levels = np.linspace(level_min2, level_max2,10),cmap ='rainbow' )\n",
    "  CS = ax.contourf(x_grid,y_grid,u_grid[:,:,0], levels = np.linspace(level_min, level_max,20),cmap = 'rainbow' )\n",
    "\n",
    "  circ = plt.Circle((0,0),0.5)\n",
    "\n",
    "  fig.colorbar(CS)\n",
    "  def animateGraph(i):\n",
    "      ax.clear()\n",
    "      ax.set_title(f'{title} at Time {t[i]:.2f}')\n",
    "      # CS = ax.contourf(x_grid,y_grid,vort[:,:,i], levels = np.linspace(level_min2, level_max2,10),cmap = 'rainbow' )\n",
    "      CS = ax.contourf(x_grid,y_grid,u_grid[:,:,i], levels = np.linspace(level_min, level_max,20),cmap='rainbow' )\n",
    "    #   ax.add_patch(circ)\n",
    "\n",
    "  anim = animation.FuncAnimation(fig,animateGraph,ta,interval=50)\n",
    "  anim.save(f'{title}.gif',writer= 'pillow')\n"
   ]
  },
  {
   "cell_type": "code",
   "execution_count": 13,
   "metadata": {},
   "outputs": [
    {
     "data": {
      "image/png": "[encoded data removed]",
      "text/plain": [
       "<Figure size 1250x500 with 2 Axes>"
      ]
     },
     "metadata": {},
     "output_type": "display_data"
    }
   ],
   "source": [
    "get_field_gif(v_grid,grid[0],grid[1],title = 'v_velocity')"
   ]
  }
 ],
 "metadata": {
  "kernelspec": {
   "display_name": "Python 3.9.13 64-bit",
   "language": "python",
   "name": "python3"
  },
  "language_info": {
   "codemirror_mode": {
    "name": "ipython",
    "version": 3
   },
   "file_extension": ".py",
   "mimetype": "text/x-python",
   "name": "python",
   "nbconvert_exporter": "python",
   "pygments_lexer": "ipython3",
   "version": "3.9.13"
  },
  "orig_nbformat": 4,
  "vscode": {
   "interpreter": {
    "hash": "11938c6bc6919ae2720b4d5011047913343b08a43b18698fd82dedb0d4417594"
   }
  }
 },
 "nbformat": 4,
 "nbformat_minor": 2
}
