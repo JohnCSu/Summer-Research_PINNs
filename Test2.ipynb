{
  "cells": [
    {
      "cell_type": "code",
      "execution_count": null,
      "metadata": {
        "id": "yfC0UffIuxxa"
      },
      "outputs": [],
      "source": [
        "from Utilities import *\n",
        "from torch import tensor\n",
        "import torch\n",
        "import torch.nn.functional as F\n",
        "import torch.nn as nn\n",
        "from matplotlib import pyplot as plt\n",
        "\n",
        "from torch.utils.data import DataLoader"
      ]
    },
    {
      "cell_type": "code",
      "execution_count": null,
      "metadata": {
        "id": "5sf60ubluxxd"
      },
      "outputs": [],
      "source": [
        "import time\n",
        "\n",
        "class Timer():\n",
        "    def __init__(self):\n",
        "        self.time = 0\n",
        "    def start(self,unit = 'ms'):\n",
        "        self.time = 0\n",
        "        self.unit = unit\n",
        "        if unit == 'ns':\n",
        "            self.time = time.perf_counter_ns()\n",
        "            return\n",
        "        elif unit == 'ms':\n",
        "            self.time = time.perf_counter()\n",
        "            return\n",
        "    def stop(self):\n",
        "        if self.unit == 'ns':\n",
        "            self.time = time.perf_counter_ns() - self.time\n",
        "        elif self.unit == 'ms':\n",
        "            self.time = time.perf_counter() - self.time\n",
        "        print(f'Time Elapsed {self.time/1000: .2f} {self.unit}')    \n",
        "        return self.time\n",
        "t = Timer()"
      ]
    },
    {
      "cell_type": "markdown",
      "metadata": {
        "id": "mrno5l5Cuxxe"
      },
      "source": [
        "# Test"
      ]
    },
    {
      "cell_type": "code",
      "execution_count": null,
      "metadata": {
        "colab": {
          "base_uri": "https://localhost:8080/"
        },
        "id": "6jKGYLcguxxg",
        "outputId": "db59e31c-c458-4f17-880a-0be941e6f6a3"
      },
      "outputs": [
        {
          "output_type": "execute_result",
          "data": {
            "text/plain": [
              "tensor([[1.],\n",
              "        [4.]], grad_fn=<MmBackward0>)"
            ]
          },
          "metadata": {},
          "execution_count": 4
        }
      ],
      "source": [
        "class basic(nn.Module):\n",
        "    def __init__(self) -> None:\n",
        "        super().__init__()\n",
        "        self.L = nn.Linear(1,1,bias = False)\n",
        "        nn.init.constant_(self.L.weight,val = 1)\n",
        "    def forward(self,x):\n",
        "        x = self.L(x**2)\n",
        "        return x\n",
        "\n",
        "n = basic()\n",
        "n(tensor([1.,2.],requires_grad=True).unsqueeze(dim = -1))"
      ]
    },
    {
      "cell_type": "code",
      "execution_count": null,
      "metadata": {
        "colab": {
          "base_uri": "https://localhost:8080/"
        },
        "id": "GpWhwwjnuxxh",
        "outputId": "82a2ac35-7b2a-4c47-9bed-d8a18ea41faa"
      },
      "outputs": [
        {
          "output_type": "stream",
          "name": "stdout",
          "text": [
            "tensor([[ 64.,  32.],\n",
            "        [128., 192.]], grad_fn=<ViewBackward0>)\n",
            "torch.Size([2, 2, 2])\n"
          ]
        }
      ],
      "source": [
        "from functorch import vmap,vjp,jacrev,hessian, jacfwd,jvp\n",
        "import timeit\n",
        "\n",
        "\n",
        "\n",
        "def func(x):\n",
        "    # return (x**2 +torch.ones_like(x)*x[0]**2 +torch.ones_like(x)*x[-1]**2)\n",
        "    result = (x**2 *torch.ones_like(x)*x[0]**2*x[1]**2*x[-1]**2)\n",
        "    # result = torch.ones_like(x)*torch.exp(x.sum())\n",
        "    return result\n",
        "\n",
        "# x = torch.rand((1000),requires_grad=True).unsqueeze(dim = 0)\n",
        "x = tensor([1.,2.],requires_grad=True)\n",
        "\n",
        "\n",
        "jacob = jacrev(func)\n",
        "# print(func(x))\n",
        "print(jacob(x))\n",
        "print(hessian(func)(x).shape)\n",
        "\n",
        "\n",
        "def aux_wrap(f):\n",
        "    def aux_func(x):\n",
        "        result = f(x)\n",
        "        return result,result  \n",
        "    return aux_func\n",
        "\n",
        "#Crazy functional programming\n",
        "def get_derivatives(net,x,hessian_vectors):\n",
        "    aux_func = aux_wrap(net)\n",
        "\n",
        "    jacob_func = (jacrev(aux_func,has_aux= True))\n",
        "\n",
        "    out_jacob, partial_hess, out = vjp(jacob_func,x,has_aux=True)\n",
        "    # print(out_jacob.shape)\n",
        "    # print(hessian_vectors.shape)\n",
        "    out_xx = vmap(lambda x : partial_hess(x,create_graph= True))(hessian_vectors)\n",
        "    # return out,out_jacob,out_xx\n",
        "    return out, out_jacob, out_xx\n",
        "\n",
        "\n",
        "#Wrapper got get_derivatives to allow use of V map\n",
        "def batch_get_derivatives_wrapper(net,hessian_vectors):\n",
        "    def batched_derivatives(x):\n",
        "        return get_derivatives(net,x,hessian_vectors)\n",
        "    return batched_derivatives\n",
        "\n",
        "def batched_deriv(net,x,hessian_vectors):\n",
        "    ''' x is batched '''\n",
        "    get_derivs = batch_get_derivatives_wrapper(net,hessian_vectors)\n",
        "    return vmap(get_derivs)(x)\n",
        "\n",
        "#JHessian = num,input, output , input size\n",
        "# h_vec = torch.zeros((2,2))\n",
        "# h_vec[0,0] = 1\n",
        "# h_vec[1,1] = 1\n",
        "# print(h_vec)\n"
      ]
    },
    {
      "cell_type": "markdown",
      "metadata": {
        "id": "u2dKu-N2uxxj"
      },
      "source": [
        "# Examples"
      ]
    },
    {
      "cell_type": "code",
      "execution_count": null,
      "metadata": {
        "id": "o62cIbNyuxxj"
      },
      "outputs": [],
      "source": [
        "class MyNet(nn.Module):\n",
        "    def __init__(self,n=30,l = 2) -> None:\n",
        "        super().__init__()\n",
        "        self.layer1 = nn.Linear(1,n,bias= False)\n",
        "        self.non_lin = torch.tanh\n",
        "        self.layers = nn.ModuleList([nn.Linear(n,n) for i in range(l)])\n",
        "        self.fc = nn.Linear(n,1)\n",
        "    def forward(self,x):\n",
        "        out = self.layer1(x)\n",
        "\n",
        "        for layer in self.layers:\n",
        "            out = self.non_lin(layer(out))\n",
        "        \n",
        "        return self.fc(out)\n"
      ]
    },
    {
      "cell_type": "markdown",
      "metadata": {
        "id": "ci_YPLxkuxxk"
      },
      "source": [
        "# 1D sPRING\n"
      ]
    },
    {
      "cell_type": "code",
      "execution_count": null,
      "metadata": {
        "id": "RlYSuWStuxxk",
        "outputId": "5fe804c7-cb5a-4806-af19-8a06b00a04ab"
      },
      "outputs": [
        {
          "name": "stdout",
          "output_type": "stream",
          "text": [
            "tensor([[-0.1411],\n",
            "        [-0.2008],\n",
            "        [-0.2598],\n",
            "        [-0.3178],\n",
            "        [-0.3746],\n",
            "        [-0.4301],\n",
            "        [-0.4840],\n",
            "        [-0.5361],\n",
            "        [-0.5863],\n",
            "        [-0.6343]], grad_fn=<SinBackward0>)\n",
            "torch.Size([100, 1])\n",
            "Epoch 0 Loss: 0.1562800109386444\n",
            "Epoch 1000 Loss: 0.02142675220966339\n",
            "Epoch 2000 Loss: 0.009730275720357895\n",
            "Epoch 3000 Loss: 0.002348999259993434\n",
            "Epoch 4000 Loss: 0.0008229224476963282\n",
            "Epoch 5000 Loss: 0.0004173512861598283\n"
          ]
        }
      ],
      "source": [
        "\n",
        "# h_vec = torch.zeros((2,1,2))\n",
        "# h_vec[0,0,0] = 1\n",
        "# h_vec[1,0,1] = 1\n",
        "\n",
        "h_vec = torch.ones((1,1,1))\n",
        "# un_x = torch.linspace(-3,3, 100 ,requires_grad=True).unsqueeze(dim = -1)\n",
        "\n",
        "x = torch.linspace(-3,3,100,requires_grad = True).unsqueeze(dim = -1)\n",
        "y = torch.sin(x[0:10])\n",
        "\n",
        "print(y)\n",
        "print(x.shape)\n",
        "net = MyNet()\n",
        "net.non_lin = torch.tanh\n",
        "optimizer = torch.optim.Adam(net.parameters(), lr = 1e-4)\n",
        "for ii in range(6000):\n",
        "    optimizer.zero_grad()\n",
        "    u,du,d2u = batched_deriv(net,x,h_vec)\n",
        "    \n",
        "    du = du.squeeze(dim=1)\n",
        "    d2u = d2u[0].squeeze(dim=1)\n",
        "    \n",
        "    res = (u[0:10] - y).pow(2).mean() + 1e-1*(d2u +u).pow(2).mean()\n",
        "    \n",
        "    res.backward(retain_graph= True)\n",
        "    \n",
        "    \n",
        "    optimizer.step()\n",
        "    if (ii % 1000) == 0:\n",
        "        # print(ut[0:10],end = '\\r')\n",
        "        print(f'Epoch {ii} Loss: {res}')\n",
        "    "
      ]
    },
    {
      "cell_type": "code",
      "execution_count": null,
      "metadata": {
        "id": "6dQMdXDiuxxl",
        "outputId": "da7e7b50-cb3e-4e11-924c-7970368e9c44"
      },
      "outputs": [
        {
          "data": {
            "text/plain": [
              "[<matplotlib.lines.Line2D at 0x27720ce4820>]"
            ]
          },
          "execution_count": 38,
          "metadata": {},
          "output_type": "execute_result"
        },
        {
          "data": {
            "image/png": "[encoded data removed]",
            "text/plain": [
              "<Figure size 432x288 with 1 Axes>"
            ]
          },
          "metadata": {
            "needs_background": "light"
          },
          "output_type": "display_data"
        }
      ],
      "source": [
        "\n",
        "\n",
        "x = torch.linspace(-3,3,100).unsqueeze(dim = -1)\n",
        "\n",
        "u,du,d2u = batched_deriv(net,x,h_vec)\n",
        "\n",
        "u,du,d2u = [i.detach() for i in [u,du,d2u[0]]]\n",
        "plt.plot(x,u.squeeze(dim=-1))\n",
        "plt.plot(x,torch.sin(x))"
      ]
    },
    {
      "cell_type": "markdown",
      "metadata": {
        "id": "vPu8t7qruxxl"
      },
      "source": [
        "# hEAT\n"
      ]
    },
    {
      "cell_type": "code",
      "execution_count": null,
      "metadata": {
        "id": "ghrvdsVXuxxl",
        "outputId": "ede13c0e-0f0b-43ff-9b91-52b93df1de15"
      },
      "outputs": [
        {
          "data": {
            "text/plain": [
              "[<matplotlib.lines.Line2D at 0x2772898d750>]"
            ]
          },
          "execution_count": 98,
          "metadata": {},
          "output_type": "execute_result"
        },
        {
          "data": {
            "image/png": "[encoded data removed]",
            "text/plain": [
              "<Figure size 432x288 with 1 Axes>"
            ]
          },
          "metadata": {
            "needs_background": "light"
          },
          "output_type": "display_data"
        }
      ],
      "source": [
        "x = torch.linspace(-4,4,39)\n",
        "t = torch.linspace(0,1,10)\n",
        "\n",
        "x_g,t_g = torch.meshgrid([x,t])\n",
        "\n",
        "x_data = torch.flatten(x_g)\n",
        "t_data = torch.flatten(t_g)\n",
        "\n",
        "data = torch.stack( [x_data,t_data] ,dim = 1)\n",
        "\n",
        "x_,t_ = 0,1\n",
        "IC = data[data[:,t_] == 0]\n",
        "\n",
        "\n",
        "y =  1*torch.exp(- 1/10*IC[:,x_]**2).unsqueeze(dim = -1)\n",
        "\n",
        "plt.plot(x,y)\n"
      ]
    },
    {
      "cell_type": "code",
      "execution_count": null,
      "metadata": {
        "id": "TzZdztkLuxxm",
        "outputId": "7a4ba77b-1e84-499d-bcb2-1d9e76ef4839"
      },
      "outputs": [
        {
          "name": "stdout",
          "output_type": "stream",
          "text": [
            "Epoch 0 Loss: 0.5657498836517334\t 0\t 6.001755173201673e-05\n",
            "Epoch 1000 Loss: 0.040583278983831406\t 0\t 0.0029693180695176125\n",
            "Epoch 2000 Loss: 0.00039737147744745016\t 0\t 0.0008728475659154356\n",
            "Epoch 3000 Loss: 0.0001538406650070101\t 0\t 0.0004890409763902426\n",
            "Epoch 4000 Loss: 7.860940968384966e-05\t 0\t 0.0003599268093239516\n",
            "Epoch 5000 Loss: 4.0773484215606004e-05\t 0\t 0.00021126540377736092\n",
            "Epoch 6000 Loss: 2.250812940474134e-05\t 0\t 0.00014958999236114323\n",
            "Epoch 7000 Loss: 1.2964384950464591e-05\t 0\t 0.00010857840970857069\n",
            "Epoch 8000 Loss: 8.23372283775825e-06\t 0\t 8.717356104170904e-05\n",
            "Epoch 9000 Loss: 5.932020485488465e-06\t 0\t 6.399460107786581e-05\n"
          ]
        }
      ],
      "source": [
        "\n",
        "\n",
        "h_vec = torch.zeros((2,1,2))\n",
        "h_vec[0,0,0] = 1\n",
        "h_vec[1,0,1] = 1\n",
        "\n",
        "# h_vec = tensor([1]).squeeze(dim=0 )\n",
        "# un_x = torch.linspace(-3,3, 100 ,requires_grad=True).unsqueeze(dim = -1)\n",
        "\n",
        "x = data\n",
        "IC_ = (data[:,t_] == 0)\n",
        "\n",
        "BC_ = (data[:,x_] == -4) + (data[:,x_] == 4)\n",
        "\n",
        "data.requires_grad =True\n",
        "net = HFM_Net(2,1,10,20)\n",
        "net.non_lin = torch.tanh\n",
        "optimizer = torch.optim.Adam(net.parameters(), lr = 1e-4)\n",
        "for ii in range(10000):\n",
        "    optimizer.zero_grad()\n",
        "    u,du,d2u = batched_deriv(net,x,h_vec)\n",
        "    \n",
        "    du = du.squeeze(dim=1)\n",
        "    d2u = d2u[0].squeeze(dim=1)\n",
        "    \n",
        "    uxx,ut = d2u[:,0,0],du[:,1]\n",
        "    IC_res = (u[IC_]-y).pow(2).mean()\n",
        "    # BC_res = (u[BC_] -5).pow(2).mean()\n",
        "    PINN_loss = (uxx -ut).pow(2).sum()\n",
        "    BC_res = 0\n",
        "    res = IC_res + PINN_loss\n",
        "    \n",
        "    res.backward(retain_graph=True)\n",
        "    \n",
        "    \n",
        "    optimizer.step()\n",
        "    if (ii % 1000) == 0:\n",
        "        # print(ut[0:10],end = '\\r')\n",
        "        print(f'Epoch {ii} Loss: {IC_res}\\t {BC_res}\\t {PINN_loss}')\n",
        "    "
      ]
    },
    {
      "cell_type": "code",
      "execution_count": null,
      "metadata": {
        "id": "XYkjX6vhuxxm",
        "outputId": "5fbff670-3adf-4b57-cf3a-99b32a0c5da7"
      },
      "outputs": [
        {
          "data": {
            "image/png": "[encoded data removed]",
            "text/plain": [
              "<Figure size 432x288 with 1 Axes>"
            ]
          },
          "metadata": {
            "needs_background": "light"
          },
          "output_type": "display_data"
        }
      ],
      "source": [
        "\n",
        "xx = data\n",
        "\n",
        "yy  = net(xx)\n",
        "u,du,d2u = batched_deriv(net,xx,h_vec)\n",
        "    \n",
        "du = du.squeeze(dim=1)\n",
        "d2u = d2u[0].squeeze(dim=1)\n",
        "\n",
        "uxx,ut = d2u[:,0,0],du[:,1]\n",
        "y =  1*torch.exp(- 1/10*xx[:,0]**2).unsqueeze(dim = -1)\n",
        "\n",
        "xxx = xx[xx[:,1] == 0,0].detach()\n",
        "# print(u[xx[:,1] == 0].shape)\n",
        "\n",
        "\n",
        "for i in torch.linspace(0,1,10):\n",
        "    plt.plot(xxx,u[xx[:,1] == i].detach())\n",
        "# plt.plot(xxx,.detach())\n",
        "# plt.plot(xxx,y.detach())\n",
        "\n",
        "# plt.plot(xxx,y.detach())\n",
        "\n",
        "\n",
        "# plt.plot(xxx,(uxx-ut).detach())\n"
      ]
    },
    {
      "cell_type": "markdown",
      "metadata": {
        "id": "lfr8lLWtuxxm"
      },
      "source": [
        "# Posieulle Flow Example (Low Reynolds Flow )"
      ]
    },
    {
      "cell_type": "code",
      "execution_count": null,
      "metadata": {
        "colab": {
          "base_uri": "https://localhost:8080/"
        },
        "id": "Wg31x3Ohuxxn",
        "outputId": "427db172-befb-4dac-cdd1-f4dc816564b8"
      },
      "outputs": [
        {
          "data": {
            "text/plain": [
              "(tensor([0.0000, 0.0000, 0.0000, 0.0000, 0.0000, 0.0000, 0.0000, 0.0000, 0.0000,\n",
              "         0.0000, 0.2493, 0.2493, 0.2493, 0.2493, 0.2493, 0.2493, 0.2493, 0.2493,\n",
              "         0.2493, 0.2493, 0.4709, 0.4709, 0.4709, 0.4709, 0.4709, 0.4709, 0.4709,\n",
              "         0.4709, 0.4709, 0.4709, 0.6648, 0.6648, 0.6648, 0.6648, 0.6648, 0.6648,\n",
              "         0.6648, 0.6648, 0.6648, 0.6648, 0.8310, 0.8310, 0.8310, 0.8310, 0.8310,\n",
              "         0.8310, 0.8310, 0.8310, 0.8310, 0.8310, 0.9695, 0.9695, 0.9695, 0.9695,\n",
              "         0.9695, 0.9695, 0.9695, 0.9695, 0.9695, 0.9695, 1.0803, 1.0803, 1.0803,\n",
              "         1.0803, 1.0803, 1.0803, 1.0803, 1.0803, 1.0803, 1.0803, 1.1634, 1.1634,\n",
              "         1.1634, 1.1634, 1.1634, 1.1634, 1.1634, 1.1634, 1.1634, 1.1634, 1.2188,\n",
              "         1.2188, 1.2188, 1.2188, 1.2188, 1.2188, 1.2188, 1.2188, 1.2188, 1.2188,\n",
              "         1.2465, 1.2465, 1.2465, 1.2465, 1.2465, 1.2465, 1.2465, 1.2465, 1.2465,\n",
              "         1.2465, 1.2465, 1.2465, 1.2465, 1.2465, 1.2465, 1.2465, 1.2465, 1.2465,\n",
              "         1.2465, 1.2465, 1.2188, 1.2188, 1.2188, 1.2188, 1.2188, 1.2188, 1.2188,\n",
              "         1.2188, 1.2188, 1.2188, 1.1634, 1.1634, 1.1634, 1.1634, 1.1634, 1.1634,\n",
              "         1.1634, 1.1634, 1.1634, 1.1634, 1.0803, 1.0803, 1.0803, 1.0803, 1.0803,\n",
              "         1.0803, 1.0803, 1.0803, 1.0803, 1.0803, 0.9695, 0.9695, 0.9695, 0.9695,\n",
              "         0.9695, 0.9695, 0.9695, 0.9695, 0.9695, 0.9695, 0.8310, 0.8310, 0.8310,\n",
              "         0.8310, 0.8310, 0.8310, 0.8310, 0.8310, 0.8310, 0.8310, 0.6648, 0.6648,\n",
              "         0.6648, 0.6648, 0.6648, 0.6648, 0.6648, 0.6648, 0.6648, 0.6648, 0.4709,\n",
              "         0.4709, 0.4709, 0.4709, 0.4709, 0.4709, 0.4709, 0.4709, 0.4709, 0.4709,\n",
              "         0.2493, 0.2493, 0.2493, 0.2493, 0.2493, 0.2493, 0.2493, 0.2493, 0.2493,\n",
              "         0.2493, 0.0000, 0.0000, 0.0000, 0.0000, 0.0000, 0.0000, 0.0000, 0.0000,\n",
              "         0.0000, 0.0000]), torch.Size([200, 3]), torch.Size([200]))"
            ]
          },
          "execution_count": 30,
          "metadata": {},
          "output_type": "execute_result"
        }
      ],
      "source": [
        "x = torch.linspace(0,1,20)\n",
        "y = torch.linspace(0,1,20)\n",
        "t = torch.linspace(0,1,10)\n",
        "\n",
        "grid = torch.meshgrid([x,y,t])\n",
        "\n",
        "flat_grids = [torch.flatten(i) for i in grid]\n",
        "\n",
        "data = torch.stack( flat_grids ,dim = 1)\n",
        "\n",
        "x_,y_,t_ = 0,1,2\n",
        "\n",
        "BC_ = torch.logical_or( (data[:,y_] == 0), (data[:,y_] == y[-1]))\n",
        "\n",
        "IC_ = (data[:,x_] == 0)\n",
        "# IC2_ = torch.logical_and( (data[:,x_] == 0),(data[:,t_] == t[2]))\n",
        "# IC5_ = torch.logical_and( (data[:,x_] == 0),(data[:,t_] == t[5]))\n",
        "data[IC_]\n",
        "\n",
        "\n",
        "mu = 0.1\n",
        "rho = 1\n",
        "Re = rho/mu\n",
        "\n",
        "\n",
        "y_s = data[data[:,x_] == 0][:,y_]\n",
        "inlet = 1/(2*mu)*( y_s*(1-y_s))\n",
        "# inlet = torch.ones_like(y)\n",
        "inlet,data[IC_].shape,inlet.shape\n",
        "# data[BC_]"
      ]
    },
    {
      "cell_type": "code",
      "execution_count": null,
      "metadata": {
        "colab": {
          "base_uri": "https://localhost:8080/"
        },
        "id": "EAjy9j6yuxxo",
        "outputId": "baf8fcd9-8a3b-498e-e680-b1b61d368d5e"
      },
      "outputs": [
        {
          "name": "stdout",
          "output_type": "stream",
          "text": [
            "cuda:0\n",
            "Epoch 0 Loss: 1.3057342767715454\t 0.08300848305225372\t 1.1964927580265794e-05\n",
            "Epoch 1000 Loss: 0.01247561164200306\t 0.013988745398819447\t 0.01327965222299099\n",
            "Epoch 2000 Loss: 0.00778105529025197\t 0.011183605529367924\t 0.0018089493969455361\n",
            "Epoch 3000 Loss: 0.006799043156206608\t 0.010868077166378498\t 0.0013758535496890545\n",
            "Epoch 4000 Loss: 0.002710785251110792\t 0.008391733281314373\t 0.0019164166878908873\n",
            "Epoch 5000 Loss: 0.00010602283145999536\t 0.00020164545276202261\t 0.0005566148902289569\n",
            "Epoch 6000 Loss: 2.1862257199245505e-05\t 3.192954682162963e-05\t 0.0002042492269538343\n",
            "Epoch 7000 Loss: 1.1099662515334785e-05\t 1.2681173757300712e-05\t 0.00010960359941236675\n",
            "Epoch 7499 Loss: 9.176471394312102e-06\t 9.106466677621938e-06\t 8.674096898175776e-05\n"
          ]
        }
      ],
      "source": [
        "h_vec =torch.stack([torch.zeros((3,3)) for i in range(4)])\n",
        "device = 'cuda:0' if torch.cuda.is_available() else 'cpu'\n",
        "\n",
        "\n",
        "#We want uxx, uyy, vxx, vyy\n",
        "h_vec[0,0,0] = 1\n",
        "h_vec[1,0,1] = 1\n",
        "h_vec[2,1,0] = 1\n",
        "h_vec[3,1,1] = 1 \n",
        "h_vec = h_vec.to(device)\n",
        "# h_vec = tensor([1]).squeeze(dim=0 )\n",
        "# un_x = torch.linspace(-3,3, 100 ,requires_grad=True).unsqueeze(dim = -1)\n",
        "print(device)\n",
        "x = data\n",
        "# x.requires_grad =True\n",
        "x = x.to(device)\n",
        "inlet= inlet.to(device)\n",
        "IC_ = IC_.to(device)\n",
        "BC_ = BC_.to(device)\n",
        "net = HFM_Net(3,3,10,30)\n",
        "\n",
        "\n",
        "net.non_lin = torch.tanh\n",
        "net = net.cuda()\n",
        "optimizer = torch.optim.Adam(net.parameters(), lr = 1e-4)\n",
        "\n",
        "for ii in range(7500):\n",
        "    optimizer.zero_grad()\n",
        "    out,out_jac,out_p_hess = batched_deriv(net,x,h_vec)\n",
        "    out_p_hess = out_p_hess[0] \n",
        "    u,v,p = [out[:,i] for i in range(3)]\n",
        "    \n",
        "    \n",
        "    u_jac = out_jac[:,0:2,0:2]\n",
        "    dp = out_jac[:,2,0:2]\n",
        "    ut = out_jac[:,0:2,-1]\n",
        "    u_vec = out[:,0:2]\n",
        "\n",
        "    uXX = out_p_hess[:,[0,1],[0,1]]\n",
        "    u_xx = uXX[:,0]\n",
        "    u_yy = uXX[:,1]\n",
        "\n",
        "\n",
        "    vXX = out_p_hess[:,[2,3],[0,1]]\n",
        "    v_xx = vXX[:,0]\n",
        "    v_yy = vXX[:,1]\n",
        "\n",
        "    # Lapl_vec = torch.stack([u_xx,v_xx],dim = -1)\n",
        "\n",
        "    batched_Ax = vmap(torch.matmul)\n",
        "\n",
        "\n",
        "    U = torch.stack([u,v],dim = -1)\n",
        "\n",
        "    convection = batched_Ax(u_jac,U) \n",
        "\n",
        "    Lapl_vec = torch.stack([uXX.sum(dim = -1),vXX.sum(dim = -1)],dim = -1)\n",
        "\n",
        "    ux = u_jac[:,0,0]\n",
        "    vy = u_jac[:,1,1]\n",
        "\n",
        "    #Equation Loss\n",
        "    PINN_loss =( ( ut + convection  +dp -1/Re*Lapl_vec).pow(2).mean(dim = 0).sum()    ) \n",
        "\n",
        "\n",
        " \n",
        "    \n",
        "    # PINN_loss =  1e-2 * (dp -1/Re*Lapl_vec).pow(2).mean()\n",
        "    # PINN_loss = 1e-2*( -dp[:,0] -1/Re*(u_xx + u_yy) ).pow(2).mean()\n",
        "    # print(PINN_loss.shape)\n",
        "    # break\n",
        "    \n",
        "    \n",
        "    \n",
        "\n",
        "    in_comp_res = (ux+vy).pow(2).mean()\n",
        "\n",
        "    IC_res = (u[IC_]-inlet).pow(2).mean() #+(u[IC2_]-inlet).pow(2).mean()+(u[IC5_]-inlet).pow(2).mean()\n",
        "    \n",
        "    P_res = (p[IC_]).pow(2).mean()\n",
        "    # print(p[IC_].shape )\n",
        "    # break\n",
        "    BC_res = (u[BC_]).pow(2).mean() + (v[BC_]).pow(2).mean() \n",
        "    \n",
        "    res = IC_res + BC_res +  PINN_loss +P_res + in_comp_res\n",
        "    \n",
        "    res.backward(retain_graph=True)\n",
        "    \n",
        "    optimizer.step()\n",
        "    if (ii % 1000) == 0:\n",
        "        # print(ut[0:10],end = '\\r')\n",
        "        print(f'Epoch {ii} Loss: {IC_res}\\t {BC_res}\\t {PINN_loss}')\n",
        "print(f'Epoch {ii} Loss: {IC_res}\\t {BC_res}\\t {PINN_loss}')"
      ]
    },
    {
      "cell_type": "code",
      "execution_count": null,
      "metadata": {
        "colab": {
          "base_uri": "https://localhost:8080/",
          "height": 265
        },
        "id": "BiDmOkdZuxxp",
        "outputId": "08ea210e-eec1-4899-d212-477cc68c9557"
      },
      "outputs": [
        {
          "data": {
            "image/png": "[encoded data removed]",
            "text/plain": [
              "<Figure size 432x288 with 1 Axes>"
            ]
          },
          "metadata": {
            "needs_background": "light"
          },
          "output_type": "display_data"
        }
      ],
      "source": [
        "x = torch.linspace(0,1,20)\n",
        "y = torch.linspace(0,0.2,20)\n",
        "t = torch.linspace(0,1,10)\n",
        "\n",
        "out = net(data.cuda()).to('cpu')\n",
        "u,v,p = [out[:,i] for i in range(3)]\n",
        "\n",
        "u = u.detach()\n",
        "v = v.detach()\n",
        "\n",
        "for i in t:\n",
        "    mask = torch.logical_and((data[:,t_] == i),(data[:,x_] == x[-1])  )\n",
        "    plt.plot(y,u[mask],label = f'{float(i):.2f}')\n",
        "    plt.legend()\n",
        "    \n",
        "\n",
        "# plt.plot(y,)"
      ]
    },
    {
      "cell_type": "markdown",
      "metadata": {
        "id": "xgCa_Nh4uxxq"
      },
      "source": [
        "# Flow around a Cylinder\n"
      ]
    },
    {
      "cell_type": "code",
      "execution_count": null,
      "metadata": {
        "colab": {
          "base_uri": "https://localhost:8080/"
        },
        "id": "c77lNjVSuxxq",
        "outputId": "d18890de-4d6b-4c32-a018-70961391868d"
      },
      "outputs": [
        {
          "data": {
            "text/plain": [
              "torch.Size([10000, 3])"
            ]
          },
          "execution_count": 42,
          "metadata": {},
          "output_type": "execute_result"
        }
      ],
      "source": [
        "x = torch.linspace(0,1,50)\n",
        "y = torch.linspace(0,0.2,10)\n",
        "t = torch.linspace(0,10,20)\n",
        "\n",
        "grid = torch.meshgrid([x,y,t])\n",
        "\n",
        "flat_grids = [torch.flatten(i) for i in grid]\n",
        "\n",
        "data = torch.stack( flat_grids ,dim = 1)\n",
        "\n",
        "x_,y_,t_ = 0,1,2\n",
        "\n",
        "\n",
        "mu = 1\n",
        "rho = 100\n",
        "inlet = 1\n",
        "Re = rho*inlet/mu\n",
        "\n",
        "data.shape\n"
      ]
    },
    {
      "cell_type": "code",
      "execution_count": null,
      "metadata": {
        "colab": {
          "base_uri": "https://localhost:8080/",
          "height": 317
        },
        "id": "0hCZqvVKuxxr",
        "outputId": "f7fe1ec1-4e98-4873-f3c5-73fd4dbd9e62"
      },
      "outputs": [
        {
          "name": "stdout",
          "output_type": "stream",
          "text": [
            "tensor([0.1800, 0.1821, 0.1842, 0.1863, 0.1884, 0.1905, 0.1926, 0.1947, 0.1968,\n",
            "        0.1989, 0.2011, 0.2032, 0.2053, 0.2074, 0.2095, 0.2116, 0.2137, 0.2158,\n",
            "        0.2179, 0.2200])\n",
            "tensor([0.1001, 0.1089, 0.1123, 0.1146, 0.1163, 0.1176, 0.1186, 0.1193, 0.1197,\n",
            "        0.1200, 0.1200, 0.1197, 0.1193, 0.1186, 0.1176, 0.1163, 0.1146, 0.1123,\n",
            "        0.1089, 0.1001])\n",
            "torch.Size([8000, 3])\n",
            "tensor(True)\n"
          ]
        },
        {
          "data": {
            "text/plain": [
              "<matplotlib.contour.QuadContourSet at 0x7f27ba49a520>"
            ]
          },
          "execution_count": 43,
          "metadata": {},
          "output_type": "execute_result"
        },
        {
          "data": {
            "image/png": "[encoded data removed]",
            "text/plain": [
              "<Figure size 720x144 with 1 Axes>"
            ]
          },
          "metadata": {
            "needs_background": "light"
          },
          "output_type": "display_data"
        }
      ],
      "source": [
        "x_co,y_co = 0.2,0.1\n",
        "\n",
        "\n",
        "radius = 0.02\n",
        "Cyl_BC = ((data[:,x_]-x_co)**2 + (data[:,y_]-y_co)**2) <= radius**2\n",
        "\n",
        "\n",
        "Cyl_x = torch.linspace(x_co-(radius-1e-7),x_co+(radius-1e-7),20) \n",
        "Cyl_y =  y_co+torch.sqrt(radius**2-(Cyl_x-(x_co))**2)\n",
        "print(Cyl_x)\n",
        "print(Cyl_y)\n",
        "\n",
        "\n",
        "Cyl_perim_grid = torch.meshgrid([Cyl_x,Cyl_y,t])\n",
        "Cyl_flat_grid = [torch.flatten(i) for i in Cyl_perim_grid]\n",
        "\n",
        "Cyl_perim_data = torch.stack( Cyl_flat_grid ,dim = 1)\n",
        "print(Cyl_perim_data.shape )\n",
        "\n",
        "\n",
        "contour_view = Cyl_BC.reshape(grid[0].shape)\n",
        "\n",
        "print(torch.any( Cyl_BC))\n",
        "plt.figure(figsize=(10,2))\n",
        "plt.contourf(grid[0][:,:,0],grid[1][:,:,0],contour_view[:,:,0])"
      ]
    },
    {
      "cell_type": "code",
      "execution_count": null,
      "metadata": {
        "colab": {
          "base_uri": "https://localhost:8080/"
        },
        "id": "hrCdlYwQuxxs",
        "outputId": "42149ce9-9486-4749-8f01-7031980c2c7e"
      },
      "outputs": [
        {
          "data": {
            "text/plain": [
              "(torch.Size([18000, 5]), tensor([True, True, True,  ..., True, True, True]))"
            ]
          },
          "execution_count": 44,
          "metadata": {},
          "output_type": "execute_result"
        }
      ],
      "source": [
        "data2 = torch.cat([data,Cyl_perim_data],dim = 0)\n",
        "# data2 = data\n",
        "Cyl_BC = ((data2[:,x_]-x_co)**2 + (data2[:,y_]-y_co)**2) <= (radius+1e-6)**2\n",
        "BC = torch.logical_or( (data2[:,y_] == 0), (data2[:,y_] == y[-1]))\n",
        "BC = torch.logical_or(BC,Cyl_BC)\n",
        "\n",
        "main_data_len = data.shape[0]\n",
        "# BC[main_data_len:] = True\n",
        "# print(BC[main_data_len:].shape)\n",
        "\n",
        "\n",
        "# IC_ = torch.logical_and( (data[:,x_] == 0),(data[:,t_] == 0))\n",
        "IC =  (data2[:,x_] == 0) \n",
        "\n",
        "\n",
        "\n",
        "new_data = torch.empty((data2.shape[0],5))\n",
        "new_data[:,0:3] = data2\n",
        "new_data[:,3] = BC \n",
        "new_data[:,-1] = IC\n",
        "new_data.shape,BC[main_data_len:]\n"
      ]
    },
    {
      "cell_type": "code",
      "execution_count": null,
      "metadata": {
        "colab": {
          "base_uri": "https://localhost:8080/",
          "height": 196
        },
        "id": "qnFyZysz5N-4",
        "outputId": "f5796d5d-dde0-428e-9c1e-ac801134c3eb"
      },
      "outputs": [
        {
          "name": "stdout",
          "output_type": "stream",
          "text": [
            "tensor(True)\n"
          ]
        },
        {
          "data": {
            "text/plain": [
              "<matplotlib.contour.QuadContourSet at 0x7f27ba3fb550>"
            ]
          },
          "execution_count": 46,
          "metadata": {},
          "output_type": "execute_result"
        },
        {
          "data": {
            "image/png": "[encoded data removed]",
            "text/plain": [
              "<Figure size 720x144 with 1 Axes>"
            ]
          },
          "metadata": {
            "needs_background": "light"
          },
          "output_type": "display_data"
        }
      ],
      "source": [
        "contour_view = BC[:main_data_len].reshape(grid[0].shape)\n",
        "\n",
        "print(torch.any( BC))\n",
        "plt.figure(figsize=(10,2))\n",
        "plt.contourf(grid[0][:,:,0],grid[1][:,:,0],contour_view[:,:,0])"
      ]
    },
    {
      "cell_type": "code",
      "execution_count": null,
      "metadata": {
        "colab": {
          "base_uri": "https://localhost:8080/"
        },
        "id": "0wRWNAmEmxAs",
        "outputId": "598ebc66-3569-48ee-ab15-40dab3a1bbe9"
      },
      "outputs": [
        {
          "data": {
            "text/plain": [
              "<All keys matched successfully>"
            ]
          },
          "execution_count": 10,
          "metadata": {},
          "output_type": "execute_result"
        }
      ],
      "source": [
        "net = HFM_Net(3,3,15,30).cuda()\n",
        "\n",
        "params = torch.load(\"Trained_.pth\")\n",
        "\n",
        "net.load_state_dict(params)"
      ]
    },
    {
      "cell_type": "code",
      "execution_count": null,
      "metadata": {
        "colab": {
          "base_uri": "https://localhost:8080/",
          "height": 1000
        },
        "id": "02CX35rMuxxs",
        "outputId": "c95fa044-eda2-4b9e-ad39-bbbd84f3fe54"
      },
      "outputs": [
        {
          "name": "stdout",
          "output_type": "stream",
          "text": [
            "Epoch 0 Loss: 0.0\t2.083383321762085\t0.06589369452558458\t3.123401464894414\t1.6505083963274956\n",
            "Epoch 100 Loss: 0.0\t0.2498500943183899\t0.0010441912745591253\t0.6424338519573212\t5.13577675819397\n",
            "Epoch 200 Loss: 0.0\t0.3781916946172714\t0.0008055321231950074\t0.3975217491388321\t5.377727031707764\n",
            "Epoch 300 Loss: 0.0\t0.3269549012184143\t0.0019360880833119154\t0.3726454824209213\t6.337337017059326\n",
            "Epoch 400 Loss: 0.0\t0.26877082884311676\t0.0013846710789948702\t0.40287119150161743\t5.907771348953247\n",
            "Epoch 500 Loss: 0.0\t0.23677629977464676\t0.0012079085572622716\t0.360591858625412\t5.789826154708862\n",
            "Epoch 600 Loss: 0.0\t0.23058681190013885\t0.0006482226890511811\t0.5493454337120056\t5.525817394256592\n",
            "Epoch 700 Loss: 0.0\t0.26725177466869354\t0.0010652247001416981\t0.44717299938201904\t5.62776255607605\n",
            "Epoch 800 Loss: 0.0\t0.2655005156993866\t0.0014188314671628177\t0.37780430912971497\t5.427432060241699\n",
            "Epoch 900 Loss: 0.0\t0.24611616879701614\t0.0013917679316364229\t0.4223668575286865\t6.312305450439453\n",
            "Epoch 1000 Loss: 0.0\t0.24522482603788376\t0.0010910967248491943\t0.5968204736709595\t5.481165170669556\n",
            "Epoch 1100 Loss: 0.0\t0.1763858012855053\t0.0009467315976507962\t0.8138543665409088\t5.148407697677612\n",
            "Epoch 1200 Loss: 0.0\t0.3684997484087944\t0.0013501703215297312\t0.7981867790222168\t5.158921241760254\n",
            "Epoch 1300 Loss: 0.0\t0.19612667709589005\t0.0008732493151910603\t0.9796474874019623\t5.342842102050781\n",
            "Epoch 1400 Loss: 0.0\t0.22055833041667938\t0.001346289471257478\t0.7584706842899323\t5.37296724319458\n",
            "Epoch 1500 Loss: 0.0\t0.25925953686237335\t0.0005483960412675515\t0.7676133215427399\t5.449848651885986\n",
            "Epoch 1600 Loss: 0.0\t0.19719067215919495\t0.0019009638344869018\t0.6288306415081024\t5.448208570480347\n",
            "Epoch 1700 Loss: 0.0\t0.2924079895019531\t0.0005869745509698987\t0.8241764307022095\t5.449496030807495\n",
            "Epoch 1800 Loss: 0.0\t0.35074782371520996\t0.0006180579075589776\t0.5250732898712158\t4.961651086807251\n",
            "Epoch 1900 Loss: 0.0\t0.33437664806842804\t0.0012464303872548044\t0.6829541921615601\t4.890047311782837\n",
            "Epoch 2000 Loss: 0.0\t0.20231293141841888\t0.0004941231163684279\t0.6386686265468597\t4.973241090774536\n",
            "Epoch 2100 Loss: 0.0\t0.21998972445726395\t0.0009685307741165161\t0.5574631989002228\t4.6786723136901855\n",
            "Epoch 2200 Loss: 0.0\t0.2423907294869423\t0.0007651823689229786\t0.48664286732673645\t4.671680450439453\n",
            "Epoch 2300 Loss: 0.0\t0.24824948608875275\t0.0008317515312228352\t0.5744428038597107\t4.646118640899658\n",
            "Epoch 2400 Loss: 0.0\t0.20824144780635834\t0.0007646437734365463\t0.44287197291851044\t5.060410022735596\n",
            "Epoch 2500 Loss: 0.0\t0.2515184357762337\t0.0008001661335583776\t0.8705770969390869\t5.133327960968018\n",
            "Epoch 2600 Loss: 0.0\t0.2957170903682709\t0.000990609492873773\t0.6808777749538422\t5.15984320640564\n",
            "Epoch 2700 Loss: 0.0\t0.28203312307596207\t0.0008085356967058033\t0.3910183012485504\t4.853506326675415\n",
            "Epoch 2800 Loss: 0.0\t0.22906460613012314\t0.0005081373237771913\t0.4129928797483444\t4.83158278465271\n",
            "Epoch 2900 Loss: 0.0\t0.2830555960536003\t0.0010080170177388936\t0.5336446166038513\t4.992360830307007\n",
            "Epoch 3000 Loss: 0.0\t0.15642870590090752\t0.000632845054497011\t0.44026365876197815\t4.482947587966919\n",
            "Epoch 3100 Loss: 0.0\t0.19573664665222168\t0.0006508139485958964\t0.38182370364665985\t4.823243141174316\n",
            "Epoch 3200 Loss: 0.0\t0.5387214422225952\t0.00042623137414921075\t1.33132803440094\t4.062149405479431\n",
            "Epoch 3300 Loss: 0.0\t0.20401277393102646\t0.00045219651656225324\t0.3008265793323517\t4.692325830459595\n",
            "Epoch 3400 Loss: 0.0\t0.3398149237036705\t0.0007888577529229224\t0.3337204158306122\t4.554784297943115\n",
            "Epoch 3500 Loss: 0.0\t0.18822099268436432\t0.0006283493130467832\t0.554578959941864\t4.747574090957642\n",
            "Epoch 3600 Loss: 0.0\t0.27955419570207596\t0.0008116316457744688\t0.31340189278125763\t4.693642616271973\n",
            "Epoch 3700 Loss: 0.0\t0.2752373740077019\t0.000776945729739964\t0.3618280440568924\t4.002565264701843\n",
            "Epoch 3800 Loss: 0.0\t0.19981784373521805\t0.0005371834122342989\t0.3205731064081192\t4.260798454284668\n",
            "Epoch 3900 Loss: 0.0\t0.24082276970148087\t0.0013245196896605194\t1.4318336844444275\t5.970616579055786\n",
            "Epoch 4000 Loss: 0.0\t0.27571144700050354\t0.0008691032708156854\t0.4387790262699127\t4.297406911849976\n",
            "Epoch 4100 Loss: 0.0\t0.2084220126271248\t0.0007025807572063059\t0.708949089050293\t4.690060138702393\n",
            "Epoch 4200 Loss: 0.0\t1.4385725259780884\t0.0009341245167888701\t0.49375592172145844\t1.664469063282013\n",
            "Epoch 4300 Loss: 0.0\t1.022136151790619\t0.0011414315085858107\t1.1965144872665405\t2.8380634784698486\n",
            "Epoch 4400 Loss: 0.0\t0.6299974918365479\t0.0026718120789155364\t1.3732877969741821\t4.724407434463501\n",
            "Epoch 4500 Loss: 0.0\t0.3636167347431183\t0.0003948352095903829\t1.4827052354812622\t6.3277528285980225\n",
            "Epoch 4600 Loss: 0.0\t0.2567736878991127\t0.001070741651346907\t1.0075003504753113\t6.630723714828491\n",
            "Epoch 4700 Loss: 0.0\t0.3398292362689972\t0.0007545557164121419\t1.2961556911468506\t6.011415719985962\n",
            "Epoch 4800 Loss: 0.0\t0.30809448659420013\t0.0010002873896155506\t0.9676496982574463\t5.827793121337891\n",
            "Epoch 4900 Loss: 0.0\t0.25632649660110474\t0.0006934456760063767\t0.8957999646663666\t5.895337104797363\n",
            "Epoch 5000 Loss: 0.0\t0.3149491995573044\t0.0008111538190860301\t1.0841324925422668\t6.290571212768555\n"
          ]
        },
        {
          "ename": "KeyboardInterrupt",
          "evalue": "ignored",
          "output_type": "error",
          "traceback": [
            "\u001b[0;31m---------------------------------------------------------------------------\u001b[0m",
            "\u001b[0;31mKeyboardInterrupt\u001b[0m                         Traceback (most recent call last)",
            "\u001b[0;32m<ipython-input-52-17873f4b53fd>\u001b[0m in \u001b[0;36m<module>\u001b[0;34m\u001b[0m\n\u001b[1;32m     30\u001b[0m     \u001b[0mrunning_loss\u001b[0m \u001b[0;34m=\u001b[0m \u001b[0;36m0\u001b[0m\u001b[0;34m\u001b[0m\u001b[0;34m\u001b[0m\u001b[0m\n\u001b[1;32m     31\u001b[0m     \u001b[0mindi_loss\u001b[0m \u001b[0;34m=\u001b[0m \u001b[0;34m[\u001b[0m\u001b[0;36m0\u001b[0m \u001b[0;32mfor\u001b[0m \u001b[0mi\u001b[0m \u001b[0;32min\u001b[0m \u001b[0mrange\u001b[0m\u001b[0;34m(\u001b[0m\u001b[0;36m5\u001b[0m\u001b[0;34m)\u001b[0m\u001b[0;34m]\u001b[0m\u001b[0;34m\u001b[0m\u001b[0;34m\u001b[0m\u001b[0m\n\u001b[0;32m---> 32\u001b[0;31m     \u001b[0;32mfor\u001b[0m \u001b[0mbatch\u001b[0m \u001b[0;32min\u001b[0m \u001b[0mtrain_loader\u001b[0m\u001b[0;34m:\u001b[0m\u001b[0;34m\u001b[0m\u001b[0;34m\u001b[0m\u001b[0m\n\u001b[0m\u001b[1;32m     33\u001b[0m \u001b[0;34m\u001b[0m\u001b[0m\n\u001b[1;32m     34\u001b[0m         \u001b[0mx\u001b[0m \u001b[0;34m=\u001b[0m \u001b[0mbatch\u001b[0m\u001b[0;34m[\u001b[0m\u001b[0;34m:\u001b[0m\u001b[0;34m,\u001b[0m\u001b[0;36m0\u001b[0m\u001b[0;34m:\u001b[0m\u001b[0;36m3\u001b[0m\u001b[0;34m]\u001b[0m\u001b[0;34m\u001b[0m\u001b[0;34m\u001b[0m\u001b[0m\n",
            "\u001b[0;32m/usr/local/lib/python3.8/dist-packages/torch/utils/data/dataloader.py\u001b[0m in \u001b[0;36m__next__\u001b[0;34m(self)\u001b[0m\n\u001b[1;32m    626\u001b[0m                 \u001b[0;31m# TODO(https://github.com/pytorch/pytorch/issues/76750)\u001b[0m\u001b[0;34m\u001b[0m\u001b[0;34m\u001b[0m\u001b[0;34m\u001b[0m\u001b[0m\n\u001b[1;32m    627\u001b[0m                 \u001b[0mself\u001b[0m\u001b[0;34m.\u001b[0m\u001b[0m_reset\u001b[0m\u001b[0;34m(\u001b[0m\u001b[0;34m)\u001b[0m  \u001b[0;31m# type: ignore[call-arg]\u001b[0m\u001b[0;34m\u001b[0m\u001b[0;34m\u001b[0m\u001b[0m\n\u001b[0;32m--> 628\u001b[0;31m             \u001b[0mdata\u001b[0m \u001b[0;34m=\u001b[0m \u001b[0mself\u001b[0m\u001b[0;34m.\u001b[0m\u001b[0m_next_data\u001b[0m\u001b[0;34m(\u001b[0m\u001b[0;34m)\u001b[0m\u001b[0;34m\u001b[0m\u001b[0;34m\u001b[0m\u001b[0m\n\u001b[0m\u001b[1;32m    629\u001b[0m             \u001b[0mself\u001b[0m\u001b[0;34m.\u001b[0m\u001b[0m_num_yielded\u001b[0m \u001b[0;34m+=\u001b[0m \u001b[0;36m1\u001b[0m\u001b[0;34m\u001b[0m\u001b[0;34m\u001b[0m\u001b[0m\n\u001b[1;32m    630\u001b[0m             \u001b[0;32mif\u001b[0m \u001b[0mself\u001b[0m\u001b[0;34m.\u001b[0m\u001b[0m_dataset_kind\u001b[0m \u001b[0;34m==\u001b[0m \u001b[0m_DatasetKind\u001b[0m\u001b[0;34m.\u001b[0m\u001b[0mIterable\u001b[0m \u001b[0;32mand\u001b[0m\u001b[0;31m \u001b[0m\u001b[0;31m\\\u001b[0m\u001b[0;34m\u001b[0m\u001b[0;34m\u001b[0m\u001b[0m\n",
            "\u001b[0;32m/usr/local/lib/python3.8/dist-packages/torch/utils/data/dataloader.py\u001b[0m in \u001b[0;36m_next_data\u001b[0;34m(self)\u001b[0m\n\u001b[1;32m    668\u001b[0m \u001b[0;34m\u001b[0m\u001b[0m\n\u001b[1;32m    669\u001b[0m     \u001b[0;32mdef\u001b[0m \u001b[0m_next_data\u001b[0m\u001b[0;34m(\u001b[0m\u001b[0mself\u001b[0m\u001b[0;34m)\u001b[0m\u001b[0;34m:\u001b[0m\u001b[0;34m\u001b[0m\u001b[0;34m\u001b[0m\u001b[0m\n\u001b[0;32m--> 670\u001b[0;31m         \u001b[0mindex\u001b[0m \u001b[0;34m=\u001b[0m \u001b[0mself\u001b[0m\u001b[0;34m.\u001b[0m\u001b[0m_next_index\u001b[0m\u001b[0;34m(\u001b[0m\u001b[0;34m)\u001b[0m  \u001b[0;31m# may raise StopIteration\u001b[0m\u001b[0;34m\u001b[0m\u001b[0;34m\u001b[0m\u001b[0m\n\u001b[0m\u001b[1;32m    671\u001b[0m         \u001b[0mdata\u001b[0m \u001b[0;34m=\u001b[0m \u001b[0mself\u001b[0m\u001b[0;34m.\u001b[0m\u001b[0m_dataset_fetcher\u001b[0m\u001b[0;34m.\u001b[0m\u001b[0mfetch\u001b[0m\u001b[0;34m(\u001b[0m\u001b[0mindex\u001b[0m\u001b[0;34m)\u001b[0m  \u001b[0;31m# may raise StopIteration\u001b[0m\u001b[0;34m\u001b[0m\u001b[0;34m\u001b[0m\u001b[0m\n\u001b[1;32m    672\u001b[0m         \u001b[0;32mif\u001b[0m \u001b[0mself\u001b[0m\u001b[0;34m.\u001b[0m\u001b[0m_pin_memory\u001b[0m\u001b[0;34m:\u001b[0m\u001b[0;34m\u001b[0m\u001b[0;34m\u001b[0m\u001b[0m\n",
            "\u001b[0;32m/usr/local/lib/python3.8/dist-packages/torch/utils/data/dataloader.py\u001b[0m in \u001b[0;36m_next_index\u001b[0;34m(self)\u001b[0m\n\u001b[1;32m    616\u001b[0m \u001b[0;34m\u001b[0m\u001b[0m\n\u001b[1;32m    617\u001b[0m     \u001b[0;32mdef\u001b[0m \u001b[0m_next_index\u001b[0m\u001b[0;34m(\u001b[0m\u001b[0mself\u001b[0m\u001b[0;34m)\u001b[0m\u001b[0;34m:\u001b[0m\u001b[0;34m\u001b[0m\u001b[0;34m\u001b[0m\u001b[0m\n\u001b[0;32m--> 618\u001b[0;31m         \u001b[0;32mreturn\u001b[0m \u001b[0mnext\u001b[0m\u001b[0;34m(\u001b[0m\u001b[0mself\u001b[0m\u001b[0;34m.\u001b[0m\u001b[0m_sampler_iter\u001b[0m\u001b[0;34m)\u001b[0m  \u001b[0;31m# may raise StopIteration\u001b[0m\u001b[0;34m\u001b[0m\u001b[0;34m\u001b[0m\u001b[0m\n\u001b[0m\u001b[1;32m    619\u001b[0m \u001b[0;34m\u001b[0m\u001b[0m\n\u001b[1;32m    620\u001b[0m     \u001b[0;32mdef\u001b[0m \u001b[0m_next_data\u001b[0m\u001b[0;34m(\u001b[0m\u001b[0mself\u001b[0m\u001b[0;34m)\u001b[0m\u001b[0;34m:\u001b[0m\u001b[0;34m\u001b[0m\u001b[0;34m\u001b[0m\u001b[0m\n",
            "\u001b[0;32m/usr/local/lib/python3.8/dist-packages/torch/utils/data/sampler.py\u001b[0m in \u001b[0;36m__iter__\u001b[0;34m(self)\u001b[0m\n\u001b[1;32m    253\u001b[0m             \u001b[0midx_in_batch\u001b[0m \u001b[0;34m=\u001b[0m \u001b[0;36m0\u001b[0m\u001b[0;34m\u001b[0m\u001b[0;34m\u001b[0m\u001b[0m\n\u001b[1;32m    254\u001b[0m             \u001b[0;32mfor\u001b[0m \u001b[0midx\u001b[0m \u001b[0;32min\u001b[0m \u001b[0mself\u001b[0m\u001b[0;34m.\u001b[0m\u001b[0msampler\u001b[0m\u001b[0;34m:\u001b[0m\u001b[0;34m\u001b[0m\u001b[0;34m\u001b[0m\u001b[0m\n\u001b[0;32m--> 255\u001b[0;31m                 \u001b[0mbatch\u001b[0m\u001b[0;34m[\u001b[0m\u001b[0midx_in_batch\u001b[0m\u001b[0;34m]\u001b[0m \u001b[0;34m=\u001b[0m \u001b[0midx\u001b[0m\u001b[0;34m\u001b[0m\u001b[0;34m\u001b[0m\u001b[0m\n\u001b[0m\u001b[1;32m    256\u001b[0m                 \u001b[0midx_in_batch\u001b[0m \u001b[0;34m+=\u001b[0m \u001b[0;36m1\u001b[0m\u001b[0;34m\u001b[0m\u001b[0;34m\u001b[0m\u001b[0m\n\u001b[1;32m    257\u001b[0m                 \u001b[0;32mif\u001b[0m \u001b[0midx_in_batch\u001b[0m \u001b[0;34m==\u001b[0m \u001b[0mself\u001b[0m\u001b[0;34m.\u001b[0m\u001b[0mbatch_size\u001b[0m\u001b[0;34m:\u001b[0m\u001b[0;34m\u001b[0m\u001b[0;34m\u001b[0m\u001b[0m\n",
            "\u001b[0;31mKeyboardInterrupt\u001b[0m: "
          ]
        }
      ],
      "source": [
        "device = 'cuda:0' if torch.cuda.is_available() else 'cpu'\n",
        "\n",
        "\n",
        "h_vec =torch.stack([torch.zeros((3,3)) for i in range(4)])\n",
        "\n",
        "\n",
        "#We want uxx, uyy, vxx, vyy\n",
        "h_vec[0,0,0] = 1\n",
        "h_vec[1,0,1] = 1\n",
        "h_vec[2,1,0] = 1\n",
        "h_vec[3,1,1] = 1 \n",
        "\n",
        "h_vec = h_vec.to(device)\n",
        "# h_vec = tensor([1]).squeeze(dim=0 )\n",
        "# un_x = torch.linspace(-3,3, 100 ,requires_grad=True).unsqueeze(dim = -1)\n",
        "\n",
        "\n",
        "\n",
        "# new_data.requires_grad =False\n",
        "new_data = new_data.to(device)\n",
        "\n",
        "train_loader = DataLoader(new_data,batch_size = 16000,shuffle = True)\n",
        "# net = HFM_Net(3,3,15,30)\n",
        "net.non_lin = torch.sin\n",
        "optimizer = torch.optim.Adam(net.parameters(), lr = 1e-4)\n",
        "\n",
        "net = net.to(device)\n",
        "\n",
        "for ii in range(10000):\n",
        "    running_loss = 0\n",
        "    indi_loss = [0 for i in range(5)]\n",
        "    for batch in train_loader:\n",
        "\n",
        "        x = batch[:,0:3]\n",
        "        BC_ = batch[:,3].to(dtype = torch.bool)\n",
        "        IC_ = batch[:,4].to(dtype = torch.bool)\n",
        "\n",
        "\n",
        "        optimizer.zero_grad()\n",
        "        out,out_jac,out_p_hess = batched_deriv(net,x,h_vec)\n",
        "        out_p_hess = out_p_hess[0] \n",
        "        u,v,p = [out[:,i] for i in range(3)]\n",
        "        \n",
        "        \n",
        "        u_jac = out_jac[:,0:2,0:2]\n",
        "        dp = out_jac[:,2,0:2]\n",
        "        u_t = out_jac[:,0:2,-1]\n",
        "        u_vec = out[:,0:2]\n",
        "\n",
        "        uXX = out_p_hess[:,[0,1],[0,1]]\n",
        "        u_xx = uXX[:,0]\n",
        "        u_yy = uXX[:,1]\n",
        "        \n",
        "        \n",
        "        vXX = out_p_hess[:,[2,3],[0,1]]\n",
        "        v_xx = vXX[:,0]\n",
        "        v_yy = vXX[:,1]\n",
        "        \n",
        "        # Lapl_vec = torch.stack([u_xx,v_xx],dim = -1)\n",
        "        \n",
        "        batched_Ax = vmap(torch.matmul)\n",
        "        \n",
        "\n",
        "        # U = torch.stack([u,v],dim = -1)\n",
        "        \n",
        "        # convection = batched_Ax(u_jac,U) \n",
        "\n",
        "        # Lapl_vec = torch.stack([uXX.sum(dim = -1),vXX.sum(dim = -1)],dim = -1)\n",
        "        \n",
        "        ux = u_jac[:,0,0]\n",
        "        uy = u_jac[:,0,1]\n",
        "        ut = u_t[:,0]\n",
        "\n",
        "        vx = u_jac[:,1,0]\n",
        "        vy = u_jac[:,1,1]\n",
        "        vt = u_t[:,1]\n",
        "\n",
        "\n",
        "        px = dp[:,0]\n",
        "        py = dp[:,1]\n",
        "\n",
        "        #Equation Loss\n",
        "        \n",
        "\n",
        "        e1 = ut + u*ux+v*uy + px - 1/Re*(u_xx + u_yy)\n",
        "        e2 = vt + vx*u +vy*v + py - 1/Re*(v_xx+v_yy)\n",
        "\n",
        "        PINN_loss = e1.pow(2).mean() + e2.pow(2).mean()\n",
        "        # PINN_loss =( ( ut + convection  +dp -1/Re*Lapl_vec).pow(2).mean(dim = 0).sum()    ) \n",
        "\n",
        "        in_comp_res = ((ux+vy).pow(2).mean())\n",
        "\n",
        "        \n",
        "        # Initiatl Contition\n",
        "        IC_res,P_res = 0,0\n",
        "        if torch.any(IC_):\n",
        "            IC_res = (u[IC_]-inlet).pow(2).mean()\n",
        "            # P_res = (p[IC_]).pow(2).mean()\n",
        "        \n",
        "        #Boundary Condition\n",
        "        BC_res =0\n",
        "        if torch.any(BC_):\n",
        "            BC_res = (u[BC_]).pow(2).mean() + (v[BC_]).pow(2).mean() \n",
        "        \n",
        "            \n",
        "        res =P_res+  IC_res + 1e2*BC_res +  1e-2*(PINN_loss + in_comp_res)\n",
        "        \n",
        "        res.backward(retain_graph=True)\n",
        "        running_loss += res\n",
        "\n",
        "        for i,loss in enumerate(map(float,[P_res , IC_res , BC_res ,  PINN_loss , in_comp_res])):\n",
        "            indi_loss[i] += loss\n",
        "        optimizer.step()\n",
        "    if (ii % 100) == 0:\n",
        "        losses = \"\\t\".join(map(str,indi_loss))\n",
        "        print(f'Epoch {ii} Loss: {losses}')\n",
        "print(f'Epoch {ii} Loss: {IC_res}\\t {BC_res}\\t {PINN_loss}')\n",
        "torch.save(net.state_dict(),f'Trained_{ii}.pth')"
      ]
    },
    {
      "cell_type": "code",
      "execution_count": null,
      "metadata": {
        "colab": {
          "base_uri": "https://localhost:8080/",
          "height": 35
        },
        "id": "iMl9mxhh9iNt",
        "outputId": "8e3c76ce-b540-478e-9ff0-70b591f6890d"
      },
      "outputs": [
        {
          "data": {
            "application/vnd.google.colaboratory.intrinsic+json": {
              "type": "string"
            },
            "text/plain": [
              "'/content'"
            ]
          },
          "execution_count": 48,
          "metadata": {},
          "output_type": "execute_result"
        }
      ],
      "source": [
        "import os\n",
        "\n",
        "os.getcwd()"
      ]
    },
    {
      "cell_type": "code",
      "execution_count": null,
      "metadata": {
        "id": "vOY-vVZx5gdX"
      },
      "outputs": [],
      "source": [
        "torch.save(net.state_dict(),f'Trained_.pth')"
      ]
    },
    {
      "cell_type": "code",
      "execution_count": null,
      "metadata": {
        "colab": {
          "base_uri": "https://localhost:8080/"
        },
        "id": "KUNZCZU2-BTk",
        "outputId": "badaed43-fcd5-428e-901f-413b0e88b695"
      },
      "outputs": [
        {
          "data": {
            "text/plain": [
              "torch.Size([10000])"
            ]
          },
          "execution_count": 53,
          "metadata": {},
          "output_type": "execute_result"
        }
      ],
      "source": [
        "x = torch.linspace(0,1,50)\n",
        "y = torch.linspace(0,0.2,10)\n",
        "t = torch.linspace(0,10,20)\n",
        "grid = torch.meshgrid([x,y,t])\n",
        "\n",
        "flat_grids = [torch.flatten(i) for i in grid]\n",
        "\n",
        "data = torch.stack( flat_grids ,dim = 1)\n",
        "\n",
        "\n",
        "net_disp = net.to('cpu')\n",
        "\n",
        "out = net_disp(data)\n",
        "\n",
        "u,v,p = [out[:,i] for i in range(3)]\n",
        "\n",
        "u.shape\n",
        "\n",
        "\n"
      ]
    },
    {
      "cell_type": "code",
      "execution_count": null,
      "metadata": {
        "colab": {
          "base_uri": "https://localhost:8080/",
          "height": 178
        },
        "id": "jo7T7OT6s3o5",
        "outputId": "274f1171-c943-40ce-8588-87740b5de6e5"
      },
      "outputs": [
        {
          "data": {
            "text/plain": [
              "<matplotlib.colorbar.Colorbar at 0x7f27ba13c0d0>"
            ]
          },
          "execution_count": 54,
          "metadata": {},
          "output_type": "execute_result"
        },
        {
          "data": {
            "image/png": "[encoded data removed]",
            "text/plain": [
              "<Figure size 756x144 with 2 Axes>"
            ]
          },
          "metadata": {
            "needs_background": "light"
          },
          "output_type": "display_data"
        }
      ],
      "source": [
        "\n",
        "\n",
        "\n",
        "\n",
        "u_grid = u.reshape(grid[0].shape).detach()\n",
        "\n",
        "# cyl_out = u[25000:]\n",
        "\n",
        "\n",
        "x_grid,y_grid = grid[0][:,:,0],grid[1][:,:,0]\n",
        "import numpy as np\n",
        "# plt.figure(figsize=(10,2))\n",
        "\n",
        "fig,ax = plt.subplots()\n",
        "fig.set_figwidth(10.5)\n",
        "fig.set_figheight(2)\n",
        "CS = ax.contourf(x_grid,y_grid,u_grid[:,:,-1] )\n",
        "# circ = plt.Circle((1,0.5),0.1)\n",
        "# ax.add_patch(circ)\n",
        "fig.colorbar(CS)\n"
      ]
    },
    {
      "cell_type": "markdown",
      "metadata": {
        "id": "uKGPSVyiIXi-"
      },
      "source": [
        "# HFM"
      ]
    },
    {
      "cell_type": "code",
      "source": [
        "from google.colab import drive\n",
        "\n",
        "drive.mount('/content/drive')"
      ],
      "metadata": {
        "colab": {
          "base_uri": "https://localhost:8080/"
        },
        "id": "jsK_3fZDJLlX",
        "outputId": "d37ddc43-1ad0-46c2-9096-3b00c5501477"
      },
      "execution_count": null,
      "outputs": [
        {
          "output_type": "stream",
          "name": "stdout",
          "text": [
            "Mounted at /content/drive\n"
          ]
        }
      ]
    },
    {
      "cell_type": "code",
      "execution_count": null,
      "metadata": {
        "id": "S2fUYasYIXi-"
      },
      "outputs": [],
      "source": [
        "import scipy.io\n",
        "import numpy as np\n",
        "data = scipy.io.loadmat('/content/drive/MyDrive/HFM/Cylinder2D.mat')\n",
        "\n",
        "t_star = data['t_star'] # T x 1\n",
        "x_star = data['x_star'] # N x 1\n",
        "y_star = data['y_star'] # N x 1\n",
        "\n",
        "T = t_star.shape[0]\n",
        "N = x_star.shape[0]\n",
        "\n",
        "U_star = data['U_star'] # N x T\n",
        "V_star = data['V_star'] # N x T\n",
        "P_star = data['P_star'] # N x T\n",
        "C_star = data['C_star'] # N x T\n",
        "\n",
        "# Rearrange Data \n",
        "T_star = np.tile(t_star, (1,N)).T # N x T\n",
        "X_star = np.tile(x_star, (1,T)) # N x T\n",
        "Y_star = np.tile(y_star, (1,T)) # N x T\n",
        "\n",
        "t = T_star.flatten()[:,None] # NT x 1\n",
        "x = X_star.flatten()[:,None] # NT x 1\n",
        "y = Y_star.flatten()[:,None] # NT x 1\n",
        "u = U_star.flatten()[:,None] # NT x 1\n",
        "v = V_star.flatten()[:,None] # NT x 1\n",
        "p = P_star.flatten()[:,None] # NT x 1\n",
        "c = C_star.flatten()[:,None] # NT x 1\n",
        "\n",
        "######################################################################\n",
        "######################## Training Data ###############################\n",
        "######################################################################\n",
        "\n",
        "T_data = T # int(sys.argv[1])\n",
        "N_data = N # int(sys.argv[2])\n",
        "idx_t = np.concatenate([np.array([0]), np.random.choice(T-2, T_data-2, replace=False)+1, np.array([T-1])] )\n",
        "idx_x = np.random.choice(N, N_data, replace=False)\n",
        "t_data = T_star[:, idx_t][idx_x,:].flatten()[:,None]\n",
        "x_data = X_star[:, idx_t][idx_x,:].flatten()[:,None]\n",
        "y_data = Y_star[:, idx_t][idx_x,:].flatten()[:,None]\n",
        "u_data = U_star[:, idx_t][idx_x,:].flatten()[:,None]\n",
        "v_data = V_star[:, idx_t][idx_x,:].flatten()[:,None]\n",
        "c_data = C_star[:, idx_t][idx_x,:].flatten()[:,None]\n",
        "    \n",
        "T_eqns = T\n",
        "N_eqns = N\n",
        "idx_t = np.concatenate([np.array([0]), np.random.choice(T-2, T_eqns-2, replace=False)+1, np.array([T-1])] )\n",
        "idx_x = np.random.choice(N, N_eqns, replace=False)\n",
        "t_eqns = T_star[:, idx_t][idx_x,:].flatten()[:,None]\n",
        "x_eqns = X_star[:, idx_t][idx_x,:].flatten()[:,None]\n",
        "y_eqns = Y_star[:, idx_t][idx_x,:].flatten()[:,None]\n",
        "\n",
        "# Training Data on velocity (inlet)\n",
        "t_inlet = t[x == x.min()][:,None]\n",
        "x_inlet = x[x == x.min()][:,None]\n",
        "y_inlet = y[x == x.min()][:,None]\n",
        "u_inlet = u[x == x.min()][:,None]\n",
        "v_inlet = v[x == x.min()][:,None]\n",
        "\n",
        "data = np.stack([x_data,y_data,t_data,u_data,v_data], axis = 1)\n",
        "\n",
        "\n"
      ]
    },
    {
      "cell_type": "code",
      "source": [
        "\n",
        "new_data = tensor(data,dtype = torch.float32).squeeze()\n",
        "new_data = new_data[0:50000]\n",
        "new_data.shape,new_data.dtype"
      ],
      "metadata": {
        "colab": {
          "base_uri": "https://localhost:8080/"
        },
        "id": "hvRwNEvpYV4V",
        "outputId": "8c7ab25a-057c-4460-b4bf-0471292b2e0b"
      },
      "execution_count": null,
      "outputs": [
        {
          "output_type": "execute_result",
          "data": {
            "text/plain": [
              "(torch.Size([50000, 5]), torch.float32)"
            ]
          },
          "metadata": {},
          "execution_count": 27
        }
      ]
    },
    {
      "cell_type": "code",
      "execution_count": null,
      "metadata": {
        "id": "IG8rWfTFIXi-"
      },
      "outputs": [],
      "source": [
        "net = HFM_Net(3,3,10,30)\n",
        "Re = 100"
      ]
    },
    {
      "cell_type": "code",
      "execution_count": null,
      "metadata": {
        "colab": {
          "base_uri": "https://localhost:8080/",
          "height": 1000
        },
        "id": "6HRWCRXpIXi_",
        "outputId": "cea7badc-af0d-4b32-99d9-0b61dc5cd903"
      },
      "outputs": [
        {
          "output_type": "stream",
          "name": "stdout",
          "text": [
            "Epoch 0 Loss: 0.022726578637957573\t0.02140018902719021\t0.06215599179267883\t0.07048296928405762\t0\n",
            "Epoch 100 Loss: 0.01425222959369421\t0.012984700500965118\t0.05358143150806427\t0.07317151874303818\t0\n",
            "Epoch 200 Loss: 0.01294576283544302\t0.011743440292775631\t0.0514591783285141\t0.0687730461359024\t0\n",
            "Epoch 300 Loss: 0.012082425877451897\t0.0109098507091403\t0.05114535242319107\t0.06611213088035583\t0\n",
            "Epoch 400 Loss: 0.011428548023104668\t0.010274780914187431\t0.051089171320199966\t0.06428749114274979\t0\n",
            "Epoch 500 Loss: 0.011069083586335182\t0.00997253693640232\t0.04998471587896347\t0.059669967740774155\t0\n",
            "Epoch 600 Loss: 0.0104525750502944\t0.009338639676570892\t0.05014888942241669\t0.06124468147754669\t0\n",
            "Epoch 700 Loss: 0.010071663185954094\t0.008996428921818733\t0.04911758005619049\t0.05840582400560379\t0\n",
            "Epoch 800 Loss: 0.009670662693679333\t0.008598711341619492\t0.04883240908384323\t0.05836270749568939\t0\n",
            "Epoch 900 Loss: 0.00931236520409584\t0.008267585188150406\t0.048126209527254105\t0.05635179579257965\t0\n",
            "Epoch 1000 Loss: 0.0089533980935812\t0.00791673269122839\t0.04780380055308342\t0.05586277320981026\t0\n",
            "Epoch 1100 Loss: 0.008606762625277042\t0.0075827352702617645\t0.047424569725990295\t0.054978180676698685\t0\n",
            "Epoch 1200 Loss: 0.00829709880053997\t0.00727323442697525\t0.047177597880363464\t0.055208854377269745\t0\n",
            "Epoch 1300 Loss: 0.007938157767057419\t0.006942977197468281\t0.04670995473861694\t0.05280814692378044\t0\n",
            "Epoch 1400 Loss: 0.007622293196618557\t0.006635604426264763\t0.04639473557472229\t0.05227414891123772\t0\n",
            "Epoch 1500 Loss: 0.007331636734306812\t0.0063473135232925415\t0.046081773936748505\t0.052350565791130066\t0\n",
            "Epoch 1600 Loss: 0.0070349350571632385\t0.006067152135074139\t0.04564148187637329\t0.0511368066072464\t0\n",
            "Epoch 1700 Loss: 0.006768591236323118\t0.005813211668282747\t0.04519481211900711\t0.050343163311481476\t0\n",
            "Epoch 1800 Loss: 0.006547386758029461\t0.005614553578197956\t0.04471955448389053\t0.04856375232338905\t0\n",
            "Epoch 1900 Loss: 0.006285909563302994\t0.005350156687200069\t0.04425302892923355\t0.04932223632931709\t0\n",
            "Epoch 2000 Loss: 0.006070757284760475\t0.005145560950040817\t0.04378053545951843\t0.04873911663889885\t0\n",
            "Epoch 2100 Loss: 0.005868936888873577\t0.004955047741532326\t0.04332466423511505\t0.048064280301332474\t0\n",
            "Epoch 2200 Loss: 0.005684745963662863\t0.004777479916810989\t0.04290436953306198\t0.04782223328948021\t0\n",
            "Epoch 2300 Loss: 0.005514877382665873\t0.004615935496985912\t0.04248548299074173\t0.04740871116518974\t0\n",
            "Epoch 2400 Loss: 0.005365913268178701\t0.004492719657719135\t0.041565246880054474\t0.04575410857796669\t0\n",
            "Epoch 2500 Loss: 0.005195552948862314\t0.0043320124968886375\t0.04167821258306503\t0.044675830751657486\t0\n",
            "Epoch 2600 Loss: 0.0051619624719023705\t0.004304823931306601\t0.040454789996147156\t0.04525906220078468\t0\n",
            "Epoch 2700 Loss: 0.004920169245451689\t0.004069395363330841\t0.040778517723083496\t0.044298864901065826\t0\n",
            "Epoch 2800 Loss: 0.004790090955793858\t0.003954736981540918\t0.04039054363965988\t0.04314485192298889\t0\n",
            "Epoch 2900 Loss: 0.004673774819821119\t0.003851662389934063\t0.04002676159143448\t0.042184460908174515\t0\n",
            "Epoch 3000 Loss: 0.004561210982501507\t0.0037475188728421926\t0.03961937129497528\t0.04174986109137535\t0\n",
            "Epoch 3100 Loss: 0.004454785026609898\t0.003649783320724964\t0.039192020893096924\t0.041308172047138214\t0\n",
            "Epoch 3200 Loss: 0.004379647318273783\t0.003573211608454585\t0.03891204297542572\t0.041731540113687515\t0\n",
            "Epoch 3300 Loss: 0.004258756060153246\t0.003472300246357918\t0.03840528428554535\t0.040240295231342316\t0\n",
            "Epoch 3400 Loss: 0.004170765168964863\t0.003394095925614238\t0.03802923858165741\t0.03963766619563103\t0\n",
            "Epoch 3500 Loss: 0.004087245091795921\t0.003318198723718524\t0.03769969195127487\t0.039204929023981094\t0\n",
            "Epoch 3600 Loss: 0.0040098512545228004\t0.003245221683755517\t0.03733319044113159\t0.039129797369241714\t0\n",
            "Epoch 3700 Loss: 0.003973645623773336\t0.0032034660689532757\t0.037215374410152435\t0.03980257734656334\t0\n",
            "Epoch 3800 Loss: 0.0038560268003493547\t0.0031089726835489273\t0.03673484921455383\t0.03797057643532753\t0\n",
            "Epoch 3900 Loss: 0.003786546178162098\t0.00304784020408988\t0.036338143050670624\t0.03753245621919632\t0\n",
            "Epoch 4000 Loss: 0.004022303503006697\t0.0032502678222954273\t0.03641568869352341\t0.04078788310289383\t0\n",
            "Epoch 4100 Loss: 0.0036519733257591724\t0.0029264995828270912\t0.03592042624950409\t0.03662695363163948\t0\n",
            "Epoch 4200 Loss: 0.0035896869376301765\t0.0028692593332380056\t0.03569519519805908\t0.03634757176041603\t0\n",
            "Epoch 4300 Loss: 0.0035407948307693005\t0.0028317372780293226\t0.03502853959798813\t0.035877205431461334\t0\n",
            "Epoch 4400 Loss: 0.0035586508456617594\t0.0028564296662807465\t0.03575865179300308\t0.034463465213775635\t0\n",
            "Epoch 4500 Loss: 0.0034123575314879417\t0.0027113505639135838\t0.034997522830963135\t0.03510316461324692\t0\n",
            "Epoch 4600 Loss: 0.003358385758474469\t0.0026616943068802357\t0.034812938421964645\t0.03485620766878128\t0\n",
            "Epoch 4700 Loss: 0.0033152552787214518\t0.00262002507224679\t0.034579500555992126\t0.03494352474808693\t0\n",
            "Epoch 4800 Loss: 0.0032552301418036222\t0.0025690202601253986\t0.0343368835747242\t0.034284111112356186\t0\n",
            "Epoch 4900 Loss: 0.003209780203178525\t0.0025259433314204216\t0.03418789803981781\t0.03419579938054085\t0\n",
            "Epoch 5000 Loss: 0.003189247567206621\t0.002503530355170369\t0.03404843807220459\t0.03452327102422714\t0\n",
            "Epoch 5100 Loss: 0.0031222356483340263\t0.0024596494622528553\t0.03358094394207001\t0.03267766907811165\t0\n",
            "Epoch 5200 Loss: 0.0030834577046334743\t0.002414883114397526\t0.03389284014701843\t0.03296462446451187\t0\n",
            "Epoch 5300 Loss: 0.0030272183939814568\t0.0023696746211498976\t0.033271148800849915\t0.03248324245214462\t0\n",
            "Epoch 5400 Loss: 0.0029916930943727493\t0.0023400578647851944\t0.03311177343130112\t0.03205176070332527\t0\n",
            "Epoch 5500 Loss: 0.002951857401058078\t0.0023000692017376423\t0.03308264911174774\t0.03209617733955383\t0\n",
            "Epoch 5600 Loss: 0.0029106796719133854\t0.0022667651064693928\t0.03268717974424362\t0.03170428052544594\t0\n",
            "Epoch 5700 Loss: 0.0028750034980475903\t0.002235141582787037\t0.032517410814762115\t0.031468767672777176\t0\n",
            "Epoch 5800 Loss: 0.0028412456158548594\t0.002206065459176898\t0.03227543830871582\t0.031242571771144867\t0\n",
            "Epoch 5900 Loss: 0.002808092162013054\t0.0021795439533889294\t0.0320461243391037\t0.0308087058365345\t0\n",
            "Epoch 6000 Loss: 0.0027741023804992437\t0.002148485742509365\t0.031888969242572784\t0.030672691762447357\t0\n",
            "Epoch 6100 Loss: 0.0027428208850324154\t0.0021223248913884163\t0.031638823449611664\t0.03041079081594944\t0\n",
            "Epoch 6200 Loss: 0.0027298075146973133\t0.0021023601293563843\t0.03169834613800049\t0.03104638308286667\t0\n",
            "Epoch 6300 Loss: 0.002711478155106306\t0.0020874624606221914\t0.03188145533204079\t0.030520103871822357\t0\n",
            "Epoch 6400 Loss: 0.0026551252231001854\t0.002043407177552581\t0.03116554394364357\t0.030006268993020058\t0\n",
            "Epoch 6500 Loss: 0.0026410361751914024\t0.0020410362631082535\t0.03091423772275448\t0.02908574417233467\t0\n",
            "Epoch 6600 Loss: 0.0026035052724182606\t0.0020053661428391933\t0.03062349557876587\t0.029190419241786003\t0\n",
            "Epoch 6700 Loss: 0.0025765292812138796\t0.001980816712602973\t0.03063042275607586\t0.028940828517079353\t0\n",
            "Epoch 6800 Loss: 0.0026329155080020428\t0.0020505532156676054\t0.030396364629268646\t0.027839861810207367\t0\n",
            "Epoch 6900 Loss: 0.002610808238387108\t0.0020025591365993023\t0.030550550669431686\t0.03027435392141342\t0\n",
            "Epoch 7000 Loss: 0.002565534319728613\t0.001963886432349682\t0.03033345378935337\t0.029831338673830032\t0\n",
            "Epoch 7100 Loss: 0.002669360488653183\t0.0020520479883998632\t0.030781108886003494\t0.03095012903213501\t0\n",
            "Epoch 7200 Loss: 0.0024603889323771\t0.0018885470926761627\t0.02956923469901085\t0.02761494740843773\t0\n",
            "Epoch 7300 Loss: 0.002430995926260948\t0.001858640811406076\t0.029554329812526703\t0.027681179344654083\t0\n",
            "Epoch 7400 Loss: 0.0024083079770207405\t0.0018341441173106432\t0.02945633791387081\t0.027960065752267838\t0\n",
            "Epoch 7500 Loss: 0.002384647959843278\t0.0018190807895734906\t0.029196077957749367\t0.027360636740922928\t0\n",
            "Epoch 7600 Loss: 0.002362901344895363\t0.001800520229153335\t0.02894868329167366\t0.027289433404803276\t0\n",
            "Epoch 7700 Loss: 0.0023716469295322895\t0.0018191034905612469\t0.028798440471291542\t0.026455912739038467\t0\n",
            "Epoch 7800 Loss: 0.0023730043321847916\t0.0018024482997134328\t0.02898630127310753\t0.028069306164979935\t0\n",
            "Epoch 7900 Loss: 0.0023371526040136814\t0.0017930322792381048\t0.028386425226926804\t0.026025613769888878\t0\n",
            "Epoch 8000 Loss: 0.002339632948860526\t0.001779560698196292\t0.02847631275653839\t0.027530904859304428\t0\n",
            "Epoch 8100 Loss: 0.0024710334837436676\t0.0018977788276970387\t0.028712254017591476\t0.028613204136490822\t0\n",
            "Epoch 8200 Loss: 0.002568004187196493\t0.0020373729057610035\t0.028248779475688934\t0.024814359843730927\t0\n",
            "Epoch 8300 Loss: 0.00222576130181551\t0.0016851183027029037\t0.027953311800956726\t0.026110989972949028\t0\n",
            "Epoch 8400 Loss: 0.002208203077316284\t0.0016708731418475509\t0.027787119150161743\t0.025945862755179405\t0\n",
            "Epoch 8500 Loss: 0.002192699583247304\t0.0016605271957814693\t0.027637794613838196\t0.025579437613487244\t0\n",
            "Epoch 8600 Loss: 0.002187934936955571\t0.0016622476978227496\t0.027421003207564354\t0.025147728621959686\t0\n",
            "Epoch 8700 Loss: 0.0021894483361393213\t0.001669169869273901\t0.027060195803642273\t0.024967646226286888\t0\n",
            "Epoch 8800 Loss: 0.0021613105200231075\t0.0016267653554677963\t0.027464812621474266\t0.0259897168725729\t0\n",
            "Epoch 8900 Loss: 0.0021230876445770264\t0.0016008415259420872\t0.02709859423339367\t0.02512601763010025\t0\n",
            "Epoch 9000 Loss: 0.002274414524435997\t0.0017677012365311384\t0.026789972558617592\t0.02388136088848114\t0\n"
          ]
        },
        {
          "output_type": "error",
          "ename": "KeyboardInterrupt",
          "evalue": "ignored",
          "traceback": [
            "\u001b[0;31m---------------------------------------------------------------------------\u001b[0m",
            "\u001b[0;31mKeyboardInterrupt\u001b[0m                         Traceback (most recent call last)",
            "\u001b[0;32m<ipython-input-28-bd54b2b9711a>\u001b[0m in \u001b[0;36m<module>\u001b[0;34m\u001b[0m\n\u001b[1;32m     22\u001b[0m     \u001b[0mrunning_loss\u001b[0m \u001b[0;34m=\u001b[0m \u001b[0;36m0\u001b[0m\u001b[0;34m\u001b[0m\u001b[0;34m\u001b[0m\u001b[0m\n\u001b[1;32m     23\u001b[0m     \u001b[0mindi_loss\u001b[0m \u001b[0;34m=\u001b[0m \u001b[0;34m[\u001b[0m\u001b[0;36m0\u001b[0m \u001b[0;32mfor\u001b[0m \u001b[0mi\u001b[0m \u001b[0;32min\u001b[0m \u001b[0mrange\u001b[0m\u001b[0;34m(\u001b[0m\u001b[0;36m5\u001b[0m\u001b[0;34m)\u001b[0m\u001b[0;34m]\u001b[0m\u001b[0;34m\u001b[0m\u001b[0;34m\u001b[0m\u001b[0m\n\u001b[0;32m---> 24\u001b[0;31m     \u001b[0;32mfor\u001b[0m \u001b[0mbatch\u001b[0m \u001b[0;32min\u001b[0m \u001b[0mtrain_loader\u001b[0m\u001b[0;34m:\u001b[0m\u001b[0;34m\u001b[0m\u001b[0;34m\u001b[0m\u001b[0m\n\u001b[0m\u001b[1;32m     25\u001b[0m \u001b[0;34m\u001b[0m\u001b[0m\n\u001b[1;32m     26\u001b[0m         \u001b[0mxyt\u001b[0m \u001b[0;34m=\u001b[0m \u001b[0mbatch\u001b[0m\u001b[0;34m[\u001b[0m\u001b[0;34m:\u001b[0m\u001b[0;34m,\u001b[0m\u001b[0;36m0\u001b[0m\u001b[0;34m:\u001b[0m\u001b[0;36m3\u001b[0m\u001b[0;34m]\u001b[0m\u001b[0;34m\u001b[0m\u001b[0;34m\u001b[0m\u001b[0m\n",
            "\u001b[0;32m/usr/local/lib/python3.8/dist-packages/torch/utils/data/dataloader.py\u001b[0m in \u001b[0;36m__next__\u001b[0;34m(self)\u001b[0m\n\u001b[1;32m    626\u001b[0m                 \u001b[0;31m# TODO(https://github.com/pytorch/pytorch/issues/76750)\u001b[0m\u001b[0;34m\u001b[0m\u001b[0;34m\u001b[0m\u001b[0;34m\u001b[0m\u001b[0m\n\u001b[1;32m    627\u001b[0m                 \u001b[0mself\u001b[0m\u001b[0;34m.\u001b[0m\u001b[0m_reset\u001b[0m\u001b[0;34m(\u001b[0m\u001b[0;34m)\u001b[0m  \u001b[0;31m# type: ignore[call-arg]\u001b[0m\u001b[0;34m\u001b[0m\u001b[0;34m\u001b[0m\u001b[0m\n\u001b[0;32m--> 628\u001b[0;31m             \u001b[0mdata\u001b[0m \u001b[0;34m=\u001b[0m \u001b[0mself\u001b[0m\u001b[0;34m.\u001b[0m\u001b[0m_next_data\u001b[0m\u001b[0;34m(\u001b[0m\u001b[0;34m)\u001b[0m\u001b[0;34m\u001b[0m\u001b[0;34m\u001b[0m\u001b[0m\n\u001b[0m\u001b[1;32m    629\u001b[0m             \u001b[0mself\u001b[0m\u001b[0;34m.\u001b[0m\u001b[0m_num_yielded\u001b[0m \u001b[0;34m+=\u001b[0m \u001b[0;36m1\u001b[0m\u001b[0;34m\u001b[0m\u001b[0;34m\u001b[0m\u001b[0m\n\u001b[1;32m    630\u001b[0m             \u001b[0;32mif\u001b[0m \u001b[0mself\u001b[0m\u001b[0;34m.\u001b[0m\u001b[0m_dataset_kind\u001b[0m \u001b[0;34m==\u001b[0m \u001b[0m_DatasetKind\u001b[0m\u001b[0;34m.\u001b[0m\u001b[0mIterable\u001b[0m \u001b[0;32mand\u001b[0m\u001b[0;31m \u001b[0m\u001b[0;31m\\\u001b[0m\u001b[0;34m\u001b[0m\u001b[0;34m\u001b[0m\u001b[0m\n",
            "\u001b[0;32m/usr/local/lib/python3.8/dist-packages/torch/utils/data/dataloader.py\u001b[0m in \u001b[0;36m_next_data\u001b[0;34m(self)\u001b[0m\n\u001b[1;32m    669\u001b[0m     \u001b[0;32mdef\u001b[0m \u001b[0m_next_data\u001b[0m\u001b[0;34m(\u001b[0m\u001b[0mself\u001b[0m\u001b[0;34m)\u001b[0m\u001b[0;34m:\u001b[0m\u001b[0;34m\u001b[0m\u001b[0;34m\u001b[0m\u001b[0m\n\u001b[1;32m    670\u001b[0m         \u001b[0mindex\u001b[0m \u001b[0;34m=\u001b[0m \u001b[0mself\u001b[0m\u001b[0;34m.\u001b[0m\u001b[0m_next_index\u001b[0m\u001b[0;34m(\u001b[0m\u001b[0;34m)\u001b[0m  \u001b[0;31m# may raise StopIteration\u001b[0m\u001b[0;34m\u001b[0m\u001b[0;34m\u001b[0m\u001b[0m\n\u001b[0;32m--> 671\u001b[0;31m         \u001b[0mdata\u001b[0m \u001b[0;34m=\u001b[0m \u001b[0mself\u001b[0m\u001b[0;34m.\u001b[0m\u001b[0m_dataset_fetcher\u001b[0m\u001b[0;34m.\u001b[0m\u001b[0mfetch\u001b[0m\u001b[0;34m(\u001b[0m\u001b[0mindex\u001b[0m\u001b[0;34m)\u001b[0m  \u001b[0;31m# may raise StopIteration\u001b[0m\u001b[0;34m\u001b[0m\u001b[0;34m\u001b[0m\u001b[0m\n\u001b[0m\u001b[1;32m    672\u001b[0m         \u001b[0;32mif\u001b[0m \u001b[0mself\u001b[0m\u001b[0;34m.\u001b[0m\u001b[0m_pin_memory\u001b[0m\u001b[0;34m:\u001b[0m\u001b[0;34m\u001b[0m\u001b[0;34m\u001b[0m\u001b[0m\n\u001b[1;32m    673\u001b[0m             \u001b[0mdata\u001b[0m \u001b[0;34m=\u001b[0m \u001b[0m_utils\u001b[0m\u001b[0;34m.\u001b[0m\u001b[0mpin_memory\u001b[0m\u001b[0;34m.\u001b[0m\u001b[0mpin_memory\u001b[0m\u001b[0;34m(\u001b[0m\u001b[0mdata\u001b[0m\u001b[0;34m,\u001b[0m \u001b[0mself\u001b[0m\u001b[0;34m.\u001b[0m\u001b[0m_pin_memory_device\u001b[0m\u001b[0;34m)\u001b[0m\u001b[0;34m\u001b[0m\u001b[0;34m\u001b[0m\u001b[0m\n",
            "\u001b[0;32m/usr/local/lib/python3.8/dist-packages/torch/utils/data/_utils/fetch.py\u001b[0m in \u001b[0;36mfetch\u001b[0;34m(self, possibly_batched_index)\u001b[0m\n\u001b[1;32m     56\u001b[0m                 \u001b[0mdata\u001b[0m \u001b[0;34m=\u001b[0m \u001b[0mself\u001b[0m\u001b[0;34m.\u001b[0m\u001b[0mdataset\u001b[0m\u001b[0;34m.\u001b[0m\u001b[0m__getitems__\u001b[0m\u001b[0;34m(\u001b[0m\u001b[0mpossibly_batched_index\u001b[0m\u001b[0;34m)\u001b[0m\u001b[0;34m\u001b[0m\u001b[0;34m\u001b[0m\u001b[0m\n\u001b[1;32m     57\u001b[0m             \u001b[0;32melse\u001b[0m\u001b[0;34m:\u001b[0m\u001b[0;34m\u001b[0m\u001b[0;34m\u001b[0m\u001b[0m\n\u001b[0;32m---> 58\u001b[0;31m                 \u001b[0mdata\u001b[0m \u001b[0;34m=\u001b[0m \u001b[0;34m[\u001b[0m\u001b[0mself\u001b[0m\u001b[0;34m.\u001b[0m\u001b[0mdataset\u001b[0m\u001b[0;34m[\u001b[0m\u001b[0midx\u001b[0m\u001b[0;34m]\u001b[0m \u001b[0;32mfor\u001b[0m \u001b[0midx\u001b[0m \u001b[0;32min\u001b[0m \u001b[0mpossibly_batched_index\u001b[0m\u001b[0;34m]\u001b[0m\u001b[0;34m\u001b[0m\u001b[0;34m\u001b[0m\u001b[0m\n\u001b[0m\u001b[1;32m     59\u001b[0m         \u001b[0;32melse\u001b[0m\u001b[0;34m:\u001b[0m\u001b[0;34m\u001b[0m\u001b[0;34m\u001b[0m\u001b[0m\n\u001b[1;32m     60\u001b[0m             \u001b[0mdata\u001b[0m \u001b[0;34m=\u001b[0m \u001b[0mself\u001b[0m\u001b[0;34m.\u001b[0m\u001b[0mdataset\u001b[0m\u001b[0;34m[\u001b[0m\u001b[0mpossibly_batched_index\u001b[0m\u001b[0;34m]\u001b[0m\u001b[0;34m\u001b[0m\u001b[0;34m\u001b[0m\u001b[0m\n",
            "\u001b[0;32m/usr/local/lib/python3.8/dist-packages/torch/utils/data/_utils/fetch.py\u001b[0m in \u001b[0;36m<listcomp>\u001b[0;34m(.0)\u001b[0m\n\u001b[1;32m     56\u001b[0m                 \u001b[0mdata\u001b[0m \u001b[0;34m=\u001b[0m \u001b[0mself\u001b[0m\u001b[0;34m.\u001b[0m\u001b[0mdataset\u001b[0m\u001b[0;34m.\u001b[0m\u001b[0m__getitems__\u001b[0m\u001b[0;34m(\u001b[0m\u001b[0mpossibly_batched_index\u001b[0m\u001b[0;34m)\u001b[0m\u001b[0;34m\u001b[0m\u001b[0;34m\u001b[0m\u001b[0m\n\u001b[1;32m     57\u001b[0m             \u001b[0;32melse\u001b[0m\u001b[0;34m:\u001b[0m\u001b[0;34m\u001b[0m\u001b[0;34m\u001b[0m\u001b[0m\n\u001b[0;32m---> 58\u001b[0;31m                 \u001b[0mdata\u001b[0m \u001b[0;34m=\u001b[0m \u001b[0;34m[\u001b[0m\u001b[0mself\u001b[0m\u001b[0;34m.\u001b[0m\u001b[0mdataset\u001b[0m\u001b[0;34m[\u001b[0m\u001b[0midx\u001b[0m\u001b[0;34m]\u001b[0m \u001b[0;32mfor\u001b[0m \u001b[0midx\u001b[0m \u001b[0;32min\u001b[0m \u001b[0mpossibly_batched_index\u001b[0m\u001b[0;34m]\u001b[0m\u001b[0;34m\u001b[0m\u001b[0;34m\u001b[0m\u001b[0m\n\u001b[0m\u001b[1;32m     59\u001b[0m         \u001b[0;32melse\u001b[0m\u001b[0;34m:\u001b[0m\u001b[0;34m\u001b[0m\u001b[0;34m\u001b[0m\u001b[0m\n\u001b[1;32m     60\u001b[0m             \u001b[0mdata\u001b[0m \u001b[0;34m=\u001b[0m \u001b[0mself\u001b[0m\u001b[0;34m.\u001b[0m\u001b[0mdataset\u001b[0m\u001b[0;34m[\u001b[0m\u001b[0mpossibly_batched_index\u001b[0m\u001b[0;34m]\u001b[0m\u001b[0;34m\u001b[0m\u001b[0;34m\u001b[0m\u001b[0m\n",
            "\u001b[0;31mKeyboardInterrupt\u001b[0m: "
          ]
        }
      ],
      "source": [
        "device = 'cuda:0' if torch.cuda.is_available() else 'cpu'\n",
        "\n",
        "h_vec =torch.stack([torch.zeros((3,3)) for i in range(4)])\n",
        "\n",
        "h_vec[0,0,0] = 1\n",
        "h_vec[1,0,1] = 1\n",
        "h_vec[2,1,0] = 1\n",
        "h_vec[3,1,1] = 1 \n",
        "\n",
        "h_vec = h_vec.to(device)\n",
        "\n",
        "new_data = new_data.to(device)\n",
        "\n",
        "train_loader = DataLoader(new_data,batch_size = 50000,shuffle = False)\n",
        "# net = HFM_Net(3,3,15,30)\n",
        "net.non_lin = torch.sin\n",
        "optimizer = torch.optim.Adam(net.parameters(), lr = 1e-4)\n",
        "\n",
        "net = net.to(device)\n",
        "\n",
        "for ii in range(10000):\n",
        "    running_loss = 0\n",
        "    indi_loss = [0 for i in range(5)]\n",
        "    for batch in train_loader:\n",
        "\n",
        "        xyt = batch[:,0:3]\n",
        "        u_data = batch[:,3]\n",
        "        v_data = batch[:,4]\n",
        "\n",
        "\n",
        "        optimizer.zero_grad()\n",
        "        out,out_jac,out_p_hess = batched_deriv(net,xyt,h_vec)\n",
        "        out_p_hess = out_p_hess[0] \n",
        "        u,v,p = [out[:,i] for i in range(3)]\n",
        "        \n",
        "        \n",
        "        u_jac = out_jac[:,0:2,0:2]\n",
        "        dp = out_jac[:,2,0:2]\n",
        "        u_t = out_jac[:,0:2,-1]\n",
        "        u_vec = out[:,0:2]\n",
        "\n",
        "        uXX = out_p_hess[:,[0,1],[0,1]]\n",
        "        u_xx = uXX[:,0]\n",
        "        u_yy = uXX[:,1]\n",
        "        \n",
        "        \n",
        "        vXX = out_p_hess[:,[2,3],[0,1]]\n",
        "        v_xx = vXX[:,0]\n",
        "        v_yy = vXX[:,1]\n",
        "        \n",
        "        ux = u_jac[:,0,0]\n",
        "        uy = u_jac[:,0,1]\n",
        "        ut = u_t[:,0]\n",
        "\n",
        "        vx = u_jac[:,1,0]\n",
        "        vy = u_jac[:,1,1]\n",
        "        vt = u_t[:,1]\n",
        "\n",
        "\n",
        "        px = dp[:,0]\n",
        "        py = dp[:,1]\n",
        "\n",
        "        #Equation Loss\n",
        "        \n",
        "\n",
        "        e1 = ut + u*ux+v*uy + px - 1/Re*(u_xx + u_yy)\n",
        "        e2 = vt + vx*u +vy*v + py - 1/Re*(v_xx+v_yy)\n",
        "\n",
        "        PINN_loss = e1.pow(2).mean() + e2.pow(2).mean()\n",
        "        # PINN_loss =( ( ut + convection  +dp -1/Re*Lapl_vec).pow(2).mean(dim = 0).sum()    ) \n",
        "\n",
        "        in_comp_res = ((ux+vy).pow(2).mean())\n",
        "\n",
        "        \n",
        "        # Initiatl Contition\n",
        "        IC_res,P_res = 0,0\n",
        "        \n",
        "        num_points = 20000\n",
        "        #Boundary Condition\n",
        "        BC_res = (u[0:num_points]-u_data[0:num_points]).pow(2).mean() + (v[0:num_points]-v_data[0:num_points]).pow(2).mean() \n",
        "\n",
        "        res = BC_res +  1e-2*(PINN_loss + in_comp_res)\n",
        "        \n",
        "        res.backward(retain_graph=True)\n",
        "        running_loss += res\n",
        "\n",
        "        for i,loss in enumerate(map(float,[res, BC_res ,  PINN_loss , in_comp_res])):\n",
        "            indi_loss[i] += loss\n",
        "        optimizer.step()\n",
        "    if (ii % 100) == 0:\n",
        "        losses = \"\\t\".join(map(str,indi_loss))\n",
        "        print(f'Epoch {ii} Loss: {losses}')\n",
        "print(f'Epoch {ii} Loss: {IC_res}\\t {BC_res}\\t {PINN_loss}')\n",
        "torch.save(net.state_dict(),f'Trained_{ii}.pth')"
      ]
    },
    {
      "cell_type": "code",
      "source": [
        "torch.save(net.state_dict(),'/content/drive/MyDrive/HFM/HFM_Test.pth')"
      ],
      "metadata": {
        "id": "r_Lhpy_5SSdh"
      },
      "execution_count": null,
      "outputs": []
    },
    {
      "cell_type": "code",
      "execution_count": null,
      "metadata": {
        "colab": {
          "base_uri": "https://localhost:8080/"
        },
        "id": "UeGvyK8XIXi_",
        "outputId": "64c30bfd-582d-4da4-8b3f-2c4469251236"
      },
      "outputs": [
        {
          "output_type": "execute_result",
          "data": {
            "text/plain": [
              "torch.Size([200000])"
            ]
          },
          "metadata": {},
          "execution_count": 30
        }
      ],
      "source": [
        "x = torch.linspace(-2.5,7.5,100)\n",
        "y = torch.linspace(-2.5,2.5,100)\n",
        "t = torch.linspace(0,10,20)\n",
        "grid = torch.meshgrid([x,y,t])\n",
        "\n",
        "flat_grids = [torch.flatten(i) for i in grid]\n",
        "\n",
        "data_val = torch.stack( flat_grids ,dim = 1)\n",
        "\n",
        "\n",
        "net_disp = net.to('cpu')\n",
        "\n",
        "out = net_disp(data_val)\n",
        "\n",
        "u,v,p = [out[:,i] for i in range(3)]\n",
        "\n",
        "u.shape"
      ]
    },
    {
      "cell_type": "code",
      "execution_count": null,
      "metadata": {
        "colab": {
          "base_uri": "https://localhost:8080/",
          "height": 341
        },
        "id": "fHPnv6YyIXi_",
        "outputId": "c848d1f3-1034-4ea0-c560-3eac89dc6a15"
      },
      "outputs": [
        {
          "output_type": "execute_result",
          "data": {
            "text/plain": [
              "<matplotlib.colorbar.Colorbar at 0x7faee09e7be0>"
            ]
          },
          "metadata": {},
          "execution_count": 44
        },
        {
          "output_type": "display_data",
          "data": {
            "text/plain": [
              "<Figure size 900x360 with 2 Axes>"
            ],
            "image/png": "[encoded data removed]"
          },
          "metadata": {
            "needs_background": "light"
          }
        }
      ],
      "source": [
        "\n",
        "\n",
        "u_grid = u.reshape(grid[0].shape).detach()\n",
        "\n",
        "x_grid,y_grid = grid[0][:,:,0],grid[1][:,:,0]\n",
        "import numpy as np\n",
        "# plt.figure(figsize=(10,2))\n",
        "\n",
        "fig,ax = plt.subplots()\n",
        "fig.set_figwidth(12.5)\n",
        "fig.set_figheight(5)\n",
        "CS = ax.contourf(x_grid,y_grid,u_grid[:,:,10] )\n",
        "circ = plt.Circle((0,0),0.5)\n",
        "ax.add_patch(circ)\n",
        "fig.colorbar(CS)"
      ]
    }
  ],
  "metadata": {
    "accelerator": "GPU",
    "colab": {
      "collapsed_sections": [
        "mrno5l5Cuxxe",
        "u2dKu-N2uxxj",
        "ci_YPLxkuxxk",
        "vPu8t7qruxxl",
        "lfr8lLWtuxxm",
        "xgCa_Nh4uxxq"
      ],
      "provenance": []
    },
    "gpuClass": "standard",
    "kernelspec": {
      "display_name": "Python 3",
      "language": "python",
      "name": "python3"
    },
    "language_info": {
      "codemirror_mode": {
        "name": "ipython",
        "version": 3
      },
      "file_extension": ".py",
      "mimetype": "text/x-python",
      "name": "python",
      "nbconvert_exporter": "python",
      "pygments_lexer": "ipython3",
      "version": "3.10.2"
    },
    "orig_nbformat": 4,
    "vscode": {
      "interpreter": {
        "hash": "93c0104d3f227b0e033a0cd6005bb89e2b2cf93a22dc7d60b19b22d2cfc418a0"
      }
    }
  },
  "nbformat": 4,
  "nbformat_minor": 0
}